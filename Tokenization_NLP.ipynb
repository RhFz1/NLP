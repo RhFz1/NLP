{
  "nbformat": 4,
  "nbformat_minor": 0,
  "metadata": {
    "colab": {
      "provenance": [],
      "toc_visible": true
    },
    "kernelspec": {
      "name": "python3",
      "display_name": "Python 3"
    },
    "language_info": {
      "name": "python"
    }
  },
  "cells": [
    {
      "cell_type": "markdown",
      "source": [
        "## ***Getting started with tokenizing words***"
      ],
      "metadata": {
        "id": "0KCuZ3XxeE9V"
      }
    },
    {
      "cell_type": "code",
      "execution_count": null,
      "metadata": {
        "id": "rXyvoit5b4nh"
      },
      "outputs": [],
      "source": [
        "import tensorflow as tf\n",
        "import numpy as np\n",
        "from tensorflow.keras.preprocessing.text import Tokenizer"
      ]
    },
    {
      "cell_type": "code",
      "source": [
        "corpus = [\"I love my @dog\",\n",
        "          \"I love my cat\",\n",
        "          \"You love my dog!\"]"
      ],
      "metadata": {
        "id": "91OWGwE2cJ-s"
      },
      "execution_count": null,
      "outputs": []
    },
    {
      "cell_type": "code",
      "source": [
        "tokenizer = Tokenizer(num_words = 100)"
      ],
      "metadata": {
        "id": "rfAEMMiicdfq"
      },
      "execution_count": null,
      "outputs": []
    },
    {
      "cell_type": "code",
      "source": [
        "tokenizer.fit_on_texts(corpus)"
      ],
      "metadata": {
        "id": "awU_-VTucjxy"
      },
      "execution_count": null,
      "outputs": []
    },
    {
      "cell_type": "code",
      "source": [
        "word_index = tokenizer.word_index"
      ],
      "metadata": {
        "id": "5sGlmYVecpff"
      },
      "execution_count": null,
      "outputs": []
    },
    {
      "cell_type": "code",
      "source": [
        "print(word_index)"
      ],
      "metadata": {
        "colab": {
          "base_uri": "https://localhost:8080/"
        },
        "id": "B5L8LinlctaL",
        "outputId": "2dab3ea8-372e-4ace-cd18-88a183cb61ab"
      },
      "execution_count": null,
      "outputs": [
        {
          "output_type": "stream",
          "name": "stdout",
          "text": [
            "{'love': 1, 'my': 2, 'i': 3, 'dog': 4, 'cat': 5, 'you': 6}\n"
          ]
        }
      ]
    },
    {
      "cell_type": "markdown",
      "source": [
        "## ***Exploring how tokenized words are re-transformed back to sentences.***"
      ],
      "metadata": {
        "id": "mYuU0wqceM-c"
      }
    },
    {
      "cell_type": "code",
      "source": [
        "sentences = tokenizer.texts_to_sequences(corpus)"
      ],
      "metadata": {
        "id": "I9WD0bHacuit"
      },
      "execution_count": null,
      "outputs": []
    },
    {
      "cell_type": "code",
      "source": [
        "print(sentences)"
      ],
      "metadata": {
        "colab": {
          "base_uri": "https://localhost:8080/"
        },
        "id": "66KNyQiAfLa9",
        "outputId": "13ee8e42-fbcb-4cc5-a630-acc3027db3ee"
      },
      "execution_count": null,
      "outputs": [
        {
          "output_type": "stream",
          "name": "stdout",
          "text": [
            "[[3, 1, 2, 4], [3, 1, 2, 5], [6, 1, 2, 4]]\n"
          ]
        }
      ]
    },
    {
      "cell_type": "markdown",
      "source": [
        "## ***Now if we try to tokenize the unseen data let's see what outcome we get.***"
      ],
      "metadata": {
        "id": "b1tVrsy-g64K"
      }
    },
    {
      "cell_type": "code",
      "source": [
        "test_corpus = [\"my dog is really good\",\n",
        "               \"i love my cat more than my dog\"]\n",
        "test_sentences = tokenizer.texts_to_sequences(test_corpus)"
      ],
      "metadata": {
        "id": "IDFfjgCUfMq-"
      },
      "execution_count": null,
      "outputs": []
    },
    {
      "cell_type": "code",
      "source": [
        "print(test_sentences)"
      ],
      "metadata": {
        "colab": {
          "base_uri": "https://localhost:8080/"
        },
        "id": "pW72fKKGhUX0",
        "outputId": "80ef43f9-da2c-4fed-e604-f6f49299ff09"
      },
      "execution_count": null,
      "outputs": [
        {
          "output_type": "stream",
          "name": "stdout",
          "text": [
            "[[2, 4], [3, 1, 2, 5, 2, 4]]\n"
          ]
        }
      ]
    },
    {
      "cell_type": "markdown",
      "source": [
        "## ***Let us see how we can use the OOV token to fill the absence of the words that the tokenizer hasn't seen before.***"
      ],
      "metadata": {
        "id": "jwC0elK1kvWU"
      }
    },
    {
      "cell_type": "code",
      "source": [
        "tokenizer_with_oov = Tokenizer(num_words = 100 , oov_token = \"<OOV>\")"
      ],
      "metadata": {
        "id": "Ihwkn5Q9hVyO"
      },
      "execution_count": null,
      "outputs": []
    },
    {
      "cell_type": "code",
      "source": [
        "tokenizer_with_oov.fit_on_texts(corpus)"
      ],
      "metadata": {
        "id": "DPGe3WxrlI-4"
      },
      "execution_count": null,
      "outputs": []
    },
    {
      "cell_type": "code",
      "source": [
        "print(tokenizer_with_oov.word_index)"
      ],
      "metadata": {
        "colab": {
          "base_uri": "https://localhost:8080/"
        },
        "id": "EK41mK2nlgTv",
        "outputId": "67b7e345-7267-4d99-ef2b-2bd1bbe6a12c"
      },
      "execution_count": null,
      "outputs": [
        {
          "output_type": "stream",
          "name": "stdout",
          "text": [
            "{'<OOV>': 1, 'love': 2, 'my': 3, 'i': 4, 'dog': 5, 'cat': 6, 'you': 7}\n"
          ]
        }
      ]
    },
    {
      "cell_type": "code",
      "source": [
        "test_sentences_with_oov = tokenizer_with_oov.texts_to_sequences(test_corpus)"
      ],
      "metadata": {
        "id": "Q8AgQB41lQlR"
      },
      "execution_count": null,
      "outputs": []
    },
    {
      "cell_type": "code",
      "source": [
        "print(test_sentences_with_oov)"
      ],
      "metadata": {
        "colab": {
          "base_uri": "https://localhost:8080/"
        },
        "id": "JindcpEsla76",
        "outputId": "47a5672e-1c7e-4748-efd5-9f07f95dcde4"
      },
      "execution_count": null,
      "outputs": [
        {
          "output_type": "stream",
          "name": "stdout",
          "text": [
            "[[3, 5, 1, 1, 1], [4, 2, 3, 6, 1, 1, 3, 5]]\n"
          ]
        }
      ]
    },
    {
      "cell_type": "markdown",
      "source": [
        "## ***Now let us address the problem of having sentences of various lengths (unequal), which result in having lengths of sentence vectors with tokenized words.***"
      ],
      "metadata": {
        "id": "DEAxcL1Mnl9p"
      }
    },
    {
      "cell_type": "code",
      "source": [
        "from tensorflow.keras.preprocessing.sequence import pad_sequences"
      ],
      "metadata": {
        "id": "0a9kV5qeldDf"
      },
      "execution_count": null,
      "outputs": []
    },
    {
      "cell_type": "code",
      "source": [
        "padded_sentences = pad_sequences(test_sentences_with_oov , padding = 'post')"
      ],
      "metadata": {
        "id": "8IvrojEpoGth"
      },
      "execution_count": null,
      "outputs": []
    },
    {
      "cell_type": "code",
      "source": [
        "print(padded_sentences)"
      ],
      "metadata": {
        "colab": {
          "base_uri": "https://localhost:8080/"
        },
        "id": "mJxKtL5gonqc",
        "outputId": "ef395328-be29-4958-e5a7-c59a5a90cbb8"
      },
      "execution_count": null,
      "outputs": [
        {
          "output_type": "stream",
          "name": "stdout",
          "text": [
            "[[3 5 1 1 1 0 0 0]\n",
            " [4 2 3 6 1 1 3 5]]\n"
          ]
        }
      ]
    },
    {
      "cell_type": "markdown",
      "source": [
        "##  ***Let's try to implement the following learnt functions on a sample dataset.***"
      ],
      "metadata": {
        "id": "ZEmk3nDEv6hI"
      }
    },
    {
      "cell_type": "markdown",
      "source": [
        "### ***Data Gathering***"
      ],
      "metadata": {
        "id": "yU8kwt4lx5gP"
      }
    },
    {
      "cell_type": "code",
      "source": [
        "!wget https://storage.googleapis.com/tensorflow-1-public/course3/sarcasm.json"
      ],
      "metadata": {
        "colab": {
          "base_uri": "https://localhost:8080/"
        },
        "id": "CTqMuylmos89",
        "outputId": "655b18d0-0dd5-4937-be8a-fb1ff811f8fc"
      },
      "execution_count": null,
      "outputs": [
        {
          "output_type": "stream",
          "name": "stdout",
          "text": [
            "--2023-04-15 16:40:51--  https://storage.googleapis.com/tensorflow-1-public/course3/sarcasm.json\n",
            "Resolving storage.googleapis.com (storage.googleapis.com)... 142.251.16.128, 142.251.163.128, 142.251.167.128, ...\n",
            "Connecting to storage.googleapis.com (storage.googleapis.com)|142.251.16.128|:443... connected.\n",
            "HTTP request sent, awaiting response... 200 OK\n",
            "Length: 5643545 (5.4M) [application/json]\n",
            "Saving to: ‘sarcasm.json.1’\n",
            "\n",
            "\rsarcasm.json.1        0%[                    ]       0  --.-KB/s               \rsarcasm.json.1      100%[===================>]   5.38M  --.-KB/s    in 0.03s   \n",
            "\n",
            "2023-04-15 16:40:51 (205 MB/s) - ‘sarcasm.json.1’ saved [5643545/5643545]\n",
            "\n"
          ]
        }
      ]
    },
    {
      "cell_type": "code",
      "source": [
        "import json\n",
        "\n",
        "with open(\"./sarcasm.json\" , 'r') as f:\n",
        "    datastore = json.load(f)"
      ],
      "metadata": {
        "id": "zZPHvQVvw60q"
      },
      "execution_count": null,
      "outputs": []
    },
    {
      "cell_type": "code",
      "source": [
        "datastore[0]"
      ],
      "metadata": {
        "colab": {
          "base_uri": "https://localhost:8080/"
        },
        "id": "9f9QTIhpxmZ5",
        "outputId": "50efb5f0-6743-4752-afca-459c42328fb1"
      },
      "execution_count": null,
      "outputs": [
        {
          "output_type": "execute_result",
          "data": {
            "text/plain": [
              "{'article_link': 'https://www.huffingtonpost.com/entry/versace-black-code_us_5861fbefe4b0de3a08f600d5',\n",
              " 'headline': \"former versace store clerk sues over secret 'black code' for minority shoppers\",\n",
              " 'is_sarcastic': 0}"
            ]
          },
          "metadata": {},
          "execution_count": 56
        }
      ]
    },
    {
      "cell_type": "code",
      "source": [
        "sentences = []\n",
        "article = []\n",
        "label = []"
      ],
      "metadata": {
        "id": "gRWLatPvxHjX"
      },
      "execution_count": null,
      "outputs": []
    },
    {
      "cell_type": "code",
      "source": [
        "for item in datastore:\n",
        "    sentences.append(item['headline'])\n",
        "    label.append(item['is_sarcastic'])\n",
        "    article.append(item['article_link'])"
      ],
      "metadata": {
        "id": "u-4ePkLwxIvz"
      },
      "execution_count": null,
      "outputs": []
    },
    {
      "cell_type": "markdown",
      "source": [
        "### ***Text Preprocessing***"
      ],
      "metadata": {
        "id": "sXU2pLBjyGkk"
      }
    },
    {
      "cell_type": "code",
      "source": [
        "from tensorflow.keras.preprocessing.text import Tokenizer\n",
        "from tensorflow.keras.preprocessing.sequence import pad_sequences"
      ],
      "metadata": {
        "id": "Ada0pGeWyPGh"
      },
      "execution_count": null,
      "outputs": []
    },
    {
      "cell_type": "code",
      "source": [
        "tokenizer = Tokenizer(oov_token = \"<OOV>\")"
      ],
      "metadata": {
        "id": "H9-qODdUyc0l"
      },
      "execution_count": null,
      "outputs": []
    },
    {
      "cell_type": "code",
      "source": [
        "tokenizer.fit_on_texts(sentences)"
      ],
      "metadata": {
        "id": "BC0HVQ80yg4B"
      },
      "execution_count": null,
      "outputs": []
    },
    {
      "cell_type": "code",
      "source": [
        "sequences = tokenizer.texts_to_sequences(sentences)"
      ],
      "metadata": {
        "id": "wvaqt-RBykoq"
      },
      "execution_count": null,
      "outputs": []
    },
    {
      "cell_type": "code",
      "source": [
        "padded_sequences = pad_sequences(sequences , padding = 'post' , maxlen = 40)"
      ],
      "metadata": {
        "id": "1zY3YqNcyz2U"
      },
      "execution_count": null,
      "outputs": []
    },
    {
      "cell_type": "code",
      "source": [
        "padded_sequences[0]"
      ],
      "metadata": {
        "colab": {
          "base_uri": "https://localhost:8080/"
        },
        "id": "MBpuKNgizBYF",
        "outputId": "b070c70e-973e-4e96-9c22-4cc72966c501"
      },
      "execution_count": null,
      "outputs": [
        {
          "output_type": "execute_result",
          "data": {
            "text/plain": [
              "array([  308, 15115,   679,  3337,  2298,    48,   382,  2576, 15116,\n",
              "           6,  2577,  8434,     0,     0,     0,     0,     0,     0,\n",
              "           0,     0,     0,     0,     0,     0,     0,     0,     0,\n",
              "           0,     0,     0,     0,     0,     0,     0,     0,     0,\n",
              "           0,     0,     0,     0], dtype=int32)"
            ]
          },
          "metadata": {},
          "execution_count": 66
        }
      ]
    },
    {
      "cell_type": "markdown",
      "source": [
        "## ***Exploring the BBC Dataset.***"
      ],
      "metadata": {
        "id": "gMs7JcLe1uvG"
      }
    },
    {
      "cell_type": "code",
      "source": [
        "import csv"
      ],
      "metadata": {
        "id": "SXVmXd9C6TkH"
      },
      "execution_count": null,
      "outputs": []
    },
    {
      "cell_type": "code",
      "source": [
        " with open(\"/content/BBC News Train.csv\" , 'r') as csvfile:\n",
        "     print(csvfile.readline())\n",
        "     print(csvfile.readline())"
      ],
      "metadata": {
        "id": "W8od0eq512wQ",
        "colab": {
          "base_uri": "https://localhost:8080/"
        },
        "outputId": "0f0ba8e0-656a-4a57-995e-7ebcee44e3a1"
      },
      "execution_count": null,
      "outputs": [
        {
          "output_type": "stream",
          "name": "stdout",
          "text": [
            "ArticleId,Text,Category\n",
            "\n",
            "1833,worldcom ex-boss launches defence lawyers defending former worldcom chief bernie ebbers against a battery of fraud charges have called a company whistleblower as their first witness.  cynthia cooper  worldcom s ex-head of internal accounting  alerted directors to irregular accounting practices at the us telecoms giant in 2002. her warnings led to the collapse of the firm following the discovery of an $11bn (£5.7bn) accounting fraud. mr ebbers has pleaded not guilty to charges of fraud and conspiracy.  prosecution lawyers have argued that mr ebbers orchestrated a series of accounting tricks at worldcom  ordering employees to hide expenses and inflate revenues to meet wall street earnings estimates. but ms cooper  who now runs her own consulting business  told a jury in new york on wednesday that external auditors arthur andersen had approved worldcom s accounting in early 2001 and 2002. she said andersen had given a  green light  to the procedures and practices used by worldcom. mr ebber s lawyers have said he was unaware of the fraud  arguing that auditors did not alert him to any problems.  ms cooper also said that during shareholder meetings mr ebbers often passed over technical questions to the company s finance chief  giving only  brief  answers himself. the prosecution s star witness  former worldcom financial chief scott sullivan  has said that mr ebbers ordered accounting adjustments at the firm  telling him to  hit our books . however  ms cooper said mr sullivan had not mentioned  anything uncomfortable  about worldcom s accounting during a 2001 audit committee meeting. mr ebbers could face a jail sentence of 85 years if convicted of all the charges he is facing. worldcom emerged from bankruptcy protection in 2004  and is now known as mci. last week  mci agreed to a buyout by verizon communications in a deal valued at $6.75bn.,business\n",
            "\n"
          ]
        }
      ]
    },
    {
      "cell_type": "code",
      "source": [
        "sentences = []\n",
        "labels = []"
      ],
      "metadata": {
        "id": "-4ydRuyi6FWR"
      },
      "execution_count": null,
      "outputs": []
    },
    {
      "cell_type": "code",
      "source": [
        "with open(\"/content/BBC News Train.csv\" , 'r') as csvfile:\n",
        "    reader = csv.reader(csvfile , delimiter = ',')\n",
        "    next(reader)\n",
        "    for item in reader:\n",
        "        sentences.append(item[1])\n",
        "        labels.append(item[2])"
      ],
      "metadata": {
        "id": "GrDJz4Mn6Q08"
      },
      "execution_count": null,
      "outputs": []
    },
    {
      "cell_type": "markdown",
      "source": [
        "### ***Removing the stopwords.***"
      ],
      "metadata": {
        "id": "-SqqI9vz7eox"
      }
    },
    {
      "cell_type": "code",
      "source": [
        "stopwords = [\"a\", \"about\", \"above\", \"after\", \"again\", \"against\", \"all\", \"am\", \"an\", \"and\", \"any\", \"are\", \"as\", \"at\", \"be\", \"because\", \"been\", \"before\", \"being\", \"below\", \"between\", \"both\", \"but\", \"by\", \"could\", \"did\", \"do\", \"does\", \"doing\", \"down\", \"during\", \"each\", \"few\", \"for\", \"from\", \"further\", \"had\", \"has\", \"have\", \"having\", \"he\", \"he'd\", \"he'll\", \"he's\", \"her\", \"here\", \"here's\", \"hers\", \"herself\", \"him\", \"himself\", \"his\", \"how\", \"how's\", \"i\", \"i'd\", \"i'll\", \"i'm\", \"i've\", \"if\", \"in\", \"into\", \"is\", \"it\", \"it's\", \"its\", \"itself\", \"let's\", \"me\", \"more\", \"most\", \"my\", \"myself\", \"nor\", \"of\", \"on\", \"once\", \"only\", \"or\", \"other\", \"ought\", \"our\", \"ours\", \"ourselves\", \"out\", \"over\", \"own\", \"same\", \"she\", \"she'd\", \"she'll\", \"she's\", \"should\", \"so\", \"some\", \"such\", \"than\", \"that\", \"that's\", \"the\", \"their\", \"theirs\", \"them\", \"themselves\", \"then\", \"there\", \"there's\", \"these\", \"they\", \"they'd\", \"they'll\", \"they're\", \"they've\", \"this\", \"those\", \"through\", \"to\", \"too\", \"under\", \"until\", \"up\", \"very\", \"was\", \"we\", \"we'd\", \"we'll\", \"we're\", \"we've\", \"were\", \"what\", \"what's\", \"when\", \"when's\", \"where\", \"where's\", \"which\", \"while\", \"who\", \"who's\", \"whom\", \"why\", \"why's\", \"with\", \"would\", \"you\", \"you'd\", \"you'll\", \"you're\", \"you've\", \"your\", \"yours\", \"yourself\", \"yourselves\" ]\n",
        "for i in range(len(sentences)):\n",
        "    sentences[i].lower()\n",
        "    temp = sentences[i].split(\" \")\n",
        "    res = []\n",
        "    for word in temp:\n",
        "        if word not in stopwords:\n",
        "            res.append(word)\n",
        "    sentences[i] = \" \".join(res)"
      ],
      "metadata": {
        "id": "dfQ-utJi60aO"
      },
      "execution_count": null,
      "outputs": []
    },
    {
      "cell_type": "markdown",
      "source": [
        "### ***Sentence and Label Tokenization***"
      ],
      "metadata": {
        "id": "-lbofNRg9op5"
      }
    },
    {
      "cell_type": "code",
      "source": [
        "from tensorflow.keras.preprocessing.text import Tokenizer\n",
        "from tensorflow.keras.preprocessing.sequence import pad_sequences"
      ],
      "metadata": {
        "id": "bz0P5xNf8Gfm"
      },
      "execution_count": null,
      "outputs": []
    },
    {
      "cell_type": "code",
      "source": [
        "tokenizer = Tokenizer(oov_token = \"<OOV>\")\n",
        "tokenizer.fit_on_texts(sentences)"
      ],
      "metadata": {
        "id": "vXStyAK78IMw"
      },
      "execution_count": null,
      "outputs": []
    },
    {
      "cell_type": "code",
      "source": [
        "sentences = tokenizer.texts_to_sequences(sentences)"
      ],
      "metadata": {
        "id": "RKj6afKj9PlD"
      },
      "execution_count": null,
      "outputs": []
    },
    {
      "cell_type": "code",
      "source": [
        "sentences = pad_sequences(sentences , padding  = 'post')"
      ],
      "metadata": {
        "id": "UfExSViB9Tqn"
      },
      "execution_count": null,
      "outputs": []
    },
    {
      "cell_type": "code",
      "source": [
        "label_tokenizer = Tokenizer(oov_token = \"<OOV>\")\n",
        "label_tokenizer.fit_on_texts(labels)"
      ],
      "metadata": {
        "id": "peE_w6d49iA1"
      },
      "execution_count": null,
      "outputs": []
    },
    {
      "cell_type": "code",
      "source": [
        "labels = label_tokenizer.texts_to_sequences(labels)"
      ],
      "metadata": {
        "id": "MXBQdycx9kLP"
      },
      "execution_count": null,
      "outputs": []
    }
  ]
}