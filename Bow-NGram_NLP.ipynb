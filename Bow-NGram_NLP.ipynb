{
  "cells": [
    {
      "cell_type": "markdown",
      "id": "6e08fb17",
      "metadata": {
        "id": "6e08fb17"
      },
      "source": [
        "<h2 align='center'> Text Representation - Bag Of Words (BOW)</h2>"
      ]
    },
    {
      "cell_type": "markdown",
      "source": [
        "<h4><b>AIM:<b><H4><h6>To perform word embedding using Bag of words and N-gram BOW and then compare the efiiciencies on application of classification models<h6>"
      ],
      "metadata": {
        "id": "pi6fMrCS66FQ"
      },
      "id": "pi6fMrCS66FQ"
    },
    {
      "cell_type": "markdown",
      "source": [
        "<h4><b>DESCRIPTION:<b><H4><h6>The BoW model captures the frequencies of the word occurrences in a text corpus.\n",
        "Bag of words is not concerned about the order in which words appear in the text; instead, it only cares about which words appear in the text.<h6><h6>An N-Gram is a sequence of N-words in a sentence. Here, N is an integer which stands for the number of words in the sequence.\n",
        "\n",
        "For example, if we put N=1, then it is referred to as a uni-gram. If you put N=2, then it is a bi-gram. If we substitute N=3, then it is a tri-gram.\n",
        "\n",
        "The bag of words does not take into consideration the order of the words in which they appear in a document, and only individual words are counted.<h6>"
      ],
      "metadata": {
        "id": "0BRSqES6701o"
      },
      "id": "0BRSqES6701o"
    },
    {
      "cell_type": "code",
      "execution_count": 1,
      "id": "0b45fb6a",
      "metadata": {
        "id": "0b45fb6a"
      },
      "outputs": [],
      "source": [
        "import pandas as pd\n",
        "import numpy as np"
      ]
    },
    {
      "cell_type": "code",
      "execution_count": 6,
      "id": "49040525",
      "metadata": {
        "colab": {
          "base_uri": "https://localhost:8080/",
          "height": 206
        },
        "id": "49040525",
        "outputId": "2785d323-dfe0-46d3-ed6d-1cb1c3dc53ec"
      },
      "outputs": [
        {
          "output_type": "execute_result",
          "data": {
            "text/plain": [
              "                                          clean_text  is_depression  \\\n",
              "0  we understand that most people who reply immed...              1   \n",
              "1  welcome to r depression s check in post a plac...              1   \n",
              "2  anyone else instead of sleeping more when depr...              1   \n",
              "3  i ve kind of stuffed around a lot in my life d...              1   \n",
              "4  sleep is my greatest and most comforting escap...              1   \n",
              "\n",
              "                                     Processed_Title  \n",
              "0  ['we', 'understand', 'that', 'most', 'people',...  \n",
              "1  ['welcome', 'to', 'r', 'depression', 's', 'che...  \n",
              "2  ['anyone', 'else', 'instead', 'of', 'sleep', '...  \n",
              "3  ['i', 've', 'kind', 'of', 'stuff', 'around', '...  \n",
              "4  ['sleep', 'be', 'my', 'greatest', 'and', 'most...  "
            ],
            "text/html": [
              "\n",
              "  <div id=\"df-10e01797-336b-4abc-bfc2-7c48da0caa70\">\n",
              "    <div class=\"colab-df-container\">\n",
              "      <div>\n",
              "<style scoped>\n",
              "    .dataframe tbody tr th:only-of-type {\n",
              "        vertical-align: middle;\n",
              "    }\n",
              "\n",
              "    .dataframe tbody tr th {\n",
              "        vertical-align: top;\n",
              "    }\n",
              "\n",
              "    .dataframe thead th {\n",
              "        text-align: right;\n",
              "    }\n",
              "</style>\n",
              "<table border=\"1\" class=\"dataframe\">\n",
              "  <thead>\n",
              "    <tr style=\"text-align: right;\">\n",
              "      <th></th>\n",
              "      <th>clean_text</th>\n",
              "      <th>is_depression</th>\n",
              "      <th>Processed_Title</th>\n",
              "    </tr>\n",
              "  </thead>\n",
              "  <tbody>\n",
              "    <tr>\n",
              "      <th>0</th>\n",
              "      <td>we understand that most people who reply immed...</td>\n",
              "      <td>1</td>\n",
              "      <td>['we', 'understand', 'that', 'most', 'people',...</td>\n",
              "    </tr>\n",
              "    <tr>\n",
              "      <th>1</th>\n",
              "      <td>welcome to r depression s check in post a plac...</td>\n",
              "      <td>1</td>\n",
              "      <td>['welcome', 'to', 'r', 'depression', 's', 'che...</td>\n",
              "    </tr>\n",
              "    <tr>\n",
              "      <th>2</th>\n",
              "      <td>anyone else instead of sleeping more when depr...</td>\n",
              "      <td>1</td>\n",
              "      <td>['anyone', 'else', 'instead', 'of', 'sleep', '...</td>\n",
              "    </tr>\n",
              "    <tr>\n",
              "      <th>3</th>\n",
              "      <td>i ve kind of stuffed around a lot in my life d...</td>\n",
              "      <td>1</td>\n",
              "      <td>['i', 've', 'kind', 'of', 'stuff', 'around', '...</td>\n",
              "    </tr>\n",
              "    <tr>\n",
              "      <th>4</th>\n",
              "      <td>sleep is my greatest and most comforting escap...</td>\n",
              "      <td>1</td>\n",
              "      <td>['sleep', 'be', 'my', 'greatest', 'and', 'most...</td>\n",
              "    </tr>\n",
              "  </tbody>\n",
              "</table>\n",
              "</div>\n",
              "      <button class=\"colab-df-convert\" onclick=\"convertToInteractive('df-10e01797-336b-4abc-bfc2-7c48da0caa70')\"\n",
              "              title=\"Convert this dataframe to an interactive table.\"\n",
              "              style=\"display:none;\">\n",
              "        \n",
              "  <svg xmlns=\"http://www.w3.org/2000/svg\" height=\"24px\"viewBox=\"0 0 24 24\"\n",
              "       width=\"24px\">\n",
              "    <path d=\"M0 0h24v24H0V0z\" fill=\"none\"/>\n",
              "    <path d=\"M18.56 5.44l.94 2.06.94-2.06 2.06-.94-2.06-.94-.94-2.06-.94 2.06-2.06.94zm-11 1L8.5 8.5l.94-2.06 2.06-.94-2.06-.94L8.5 2.5l-.94 2.06-2.06.94zm10 10l.94 2.06.94-2.06 2.06-.94-2.06-.94-.94-2.06-.94 2.06-2.06.94z\"/><path d=\"M17.41 7.96l-1.37-1.37c-.4-.4-.92-.59-1.43-.59-.52 0-1.04.2-1.43.59L10.3 9.45l-7.72 7.72c-.78.78-.78 2.05 0 2.83L4 21.41c.39.39.9.59 1.41.59.51 0 1.02-.2 1.41-.59l7.78-7.78 2.81-2.81c.8-.78.8-2.07 0-2.86zM5.41 20L4 18.59l7.72-7.72 1.47 1.35L5.41 20z\"/>\n",
              "  </svg>\n",
              "      </button>\n",
              "      \n",
              "  <style>\n",
              "    .colab-df-container {\n",
              "      display:flex;\n",
              "      flex-wrap:wrap;\n",
              "      gap: 12px;\n",
              "    }\n",
              "\n",
              "    .colab-df-convert {\n",
              "      background-color: #E8F0FE;\n",
              "      border: none;\n",
              "      border-radius: 50%;\n",
              "      cursor: pointer;\n",
              "      display: none;\n",
              "      fill: #1967D2;\n",
              "      height: 32px;\n",
              "      padding: 0 0 0 0;\n",
              "      width: 32px;\n",
              "    }\n",
              "\n",
              "    .colab-df-convert:hover {\n",
              "      background-color: #E2EBFA;\n",
              "      box-shadow: 0px 1px 2px rgba(60, 64, 67, 0.3), 0px 1px 3px 1px rgba(60, 64, 67, 0.15);\n",
              "      fill: #174EA6;\n",
              "    }\n",
              "\n",
              "    [theme=dark] .colab-df-convert {\n",
              "      background-color: #3B4455;\n",
              "      fill: #D2E3FC;\n",
              "    }\n",
              "\n",
              "    [theme=dark] .colab-df-convert:hover {\n",
              "      background-color: #434B5C;\n",
              "      box-shadow: 0px 1px 3px 1px rgba(0, 0, 0, 0.15);\n",
              "      filter: drop-shadow(0px 1px 2px rgba(0, 0, 0, 0.3));\n",
              "      fill: #FFFFFF;\n",
              "    }\n",
              "  </style>\n",
              "\n",
              "      <script>\n",
              "        const buttonEl =\n",
              "          document.querySelector('#df-10e01797-336b-4abc-bfc2-7c48da0caa70 button.colab-df-convert');\n",
              "        buttonEl.style.display =\n",
              "          google.colab.kernel.accessAllowed ? 'block' : 'none';\n",
              "\n",
              "        async function convertToInteractive(key) {\n",
              "          const element = document.querySelector('#df-10e01797-336b-4abc-bfc2-7c48da0caa70');\n",
              "          const dataTable =\n",
              "            await google.colab.kernel.invokeFunction('convertToInteractive',\n",
              "                                                     [key], {});\n",
              "          if (!dataTable) return;\n",
              "\n",
              "          const docLinkHtml = 'Like what you see? Visit the ' +\n",
              "            '<a target=\"_blank\" href=https://colab.research.google.com/notebooks/data_table.ipynb>data table notebook</a>'\n",
              "            + ' to learn more about interactive tables.';\n",
              "          element.innerHTML = '';\n",
              "          dataTable['output_type'] = 'display_data';\n",
              "          await google.colab.output.renderOutput(dataTable, element);\n",
              "          const docLink = document.createElement('div');\n",
              "          docLink.innerHTML = docLinkHtml;\n",
              "          element.appendChild(docLink);\n",
              "        }\n",
              "      </script>\n",
              "    </div>\n",
              "  </div>\n",
              "  "
            ]
          },
          "metadata": {},
          "execution_count": 6
        }
      ],
      "source": [
        "df = pd.read_csv(\"proc.csv\" , encoding = 'latin-1' )\n",
        "df.head()"
      ]
    },
    {
      "cell_type": "code",
      "execution_count": 48,
      "id": "a69df1db",
      "metadata": {
        "id": "a69df1db",
        "outputId": "50f86d4a-45a4-4a4f-9c65-ba05b2a36ad9",
        "colab": {
          "base_uri": "https://localhost:8080/"
        }
      },
      "outputs": [
        {
          "output_type": "execute_result",
          "data": {
            "text/plain": [
              "0    3900\n",
              "1    3831\n",
              "Name: is_depression, dtype: int64"
            ]
          },
          "metadata": {},
          "execution_count": 48
        }
      ],
      "source": [
        "df.is_depression.value_counts()"
      ]
    },
    {
      "cell_type": "code",
      "execution_count": 8,
      "id": "de9f696c",
      "metadata": {
        "id": "de9f696c",
        "outputId": "2bd5dfba-6285-4b66-f125-b70b1afb310a",
        "colab": {
          "base_uri": "https://localhost:8080/"
        }
      },
      "outputs": [
        {
          "output_type": "execute_result",
          "data": {
            "text/plain": [
              "(7731, 3)"
            ]
          },
          "metadata": {},
          "execution_count": 8
        }
      ],
      "source": [
        "df.shape"
      ]
    },
    {
      "cell_type": "code",
      "execution_count": 9,
      "id": "bbb77304",
      "metadata": {
        "scrolled": true,
        "id": "bbb77304",
        "outputId": "8fa820d0-ff60-4639-b4eb-6bd29866d54d",
        "colab": {
          "base_uri": "https://localhost:8080/",
          "height": 206
        }
      },
      "outputs": [
        {
          "output_type": "execute_result",
          "data": {
            "text/plain": [
              "                                          clean_text  is_depression  \\\n",
              "0  we understand that most people who reply immed...              1   \n",
              "1  welcome to r depression s check in post a plac...              1   \n",
              "2  anyone else instead of sleeping more when depr...              1   \n",
              "3  i ve kind of stuffed around a lot in my life d...              1   \n",
              "4  sleep is my greatest and most comforting escap...              1   \n",
              "\n",
              "                                     Processed_Title  \n",
              "0  ['we', 'understand', 'that', 'most', 'people',...  \n",
              "1  ['welcome', 'to', 'r', 'depression', 's', 'che...  \n",
              "2  ['anyone', 'else', 'instead', 'of', 'sleep', '...  \n",
              "3  ['i', 've', 'kind', 'of', 'stuff', 'around', '...  \n",
              "4  ['sleep', 'be', 'my', 'greatest', 'and', 'most...  "
            ],
            "text/html": [
              "\n",
              "  <div id=\"df-325596e4-4a06-4dc9-be63-4d27279e482a\">\n",
              "    <div class=\"colab-df-container\">\n",
              "      <div>\n",
              "<style scoped>\n",
              "    .dataframe tbody tr th:only-of-type {\n",
              "        vertical-align: middle;\n",
              "    }\n",
              "\n",
              "    .dataframe tbody tr th {\n",
              "        vertical-align: top;\n",
              "    }\n",
              "\n",
              "    .dataframe thead th {\n",
              "        text-align: right;\n",
              "    }\n",
              "</style>\n",
              "<table border=\"1\" class=\"dataframe\">\n",
              "  <thead>\n",
              "    <tr style=\"text-align: right;\">\n",
              "      <th></th>\n",
              "      <th>clean_text</th>\n",
              "      <th>is_depression</th>\n",
              "      <th>Processed_Title</th>\n",
              "    </tr>\n",
              "  </thead>\n",
              "  <tbody>\n",
              "    <tr>\n",
              "      <th>0</th>\n",
              "      <td>we understand that most people who reply immed...</td>\n",
              "      <td>1</td>\n",
              "      <td>['we', 'understand', 'that', 'most', 'people',...</td>\n",
              "    </tr>\n",
              "    <tr>\n",
              "      <th>1</th>\n",
              "      <td>welcome to r depression s check in post a plac...</td>\n",
              "      <td>1</td>\n",
              "      <td>['welcome', 'to', 'r', 'depression', 's', 'che...</td>\n",
              "    </tr>\n",
              "    <tr>\n",
              "      <th>2</th>\n",
              "      <td>anyone else instead of sleeping more when depr...</td>\n",
              "      <td>1</td>\n",
              "      <td>['anyone', 'else', 'instead', 'of', 'sleep', '...</td>\n",
              "    </tr>\n",
              "    <tr>\n",
              "      <th>3</th>\n",
              "      <td>i ve kind of stuffed around a lot in my life d...</td>\n",
              "      <td>1</td>\n",
              "      <td>['i', 've', 'kind', 'of', 'stuff', 'around', '...</td>\n",
              "    </tr>\n",
              "    <tr>\n",
              "      <th>4</th>\n",
              "      <td>sleep is my greatest and most comforting escap...</td>\n",
              "      <td>1</td>\n",
              "      <td>['sleep', 'be', 'my', 'greatest', 'and', 'most...</td>\n",
              "    </tr>\n",
              "  </tbody>\n",
              "</table>\n",
              "</div>\n",
              "      <button class=\"colab-df-convert\" onclick=\"convertToInteractive('df-325596e4-4a06-4dc9-be63-4d27279e482a')\"\n",
              "              title=\"Convert this dataframe to an interactive table.\"\n",
              "              style=\"display:none;\">\n",
              "        \n",
              "  <svg xmlns=\"http://www.w3.org/2000/svg\" height=\"24px\"viewBox=\"0 0 24 24\"\n",
              "       width=\"24px\">\n",
              "    <path d=\"M0 0h24v24H0V0z\" fill=\"none\"/>\n",
              "    <path d=\"M18.56 5.44l.94 2.06.94-2.06 2.06-.94-2.06-.94-.94-2.06-.94 2.06-2.06.94zm-11 1L8.5 8.5l.94-2.06 2.06-.94-2.06-.94L8.5 2.5l-.94 2.06-2.06.94zm10 10l.94 2.06.94-2.06 2.06-.94-2.06-.94-.94-2.06-.94 2.06-2.06.94z\"/><path d=\"M17.41 7.96l-1.37-1.37c-.4-.4-.92-.59-1.43-.59-.52 0-1.04.2-1.43.59L10.3 9.45l-7.72 7.72c-.78.78-.78 2.05 0 2.83L4 21.41c.39.39.9.59 1.41.59.51 0 1.02-.2 1.41-.59l7.78-7.78 2.81-2.81c.8-.78.8-2.07 0-2.86zM5.41 20L4 18.59l7.72-7.72 1.47 1.35L5.41 20z\"/>\n",
              "  </svg>\n",
              "      </button>\n",
              "      \n",
              "  <style>\n",
              "    .colab-df-container {\n",
              "      display:flex;\n",
              "      flex-wrap:wrap;\n",
              "      gap: 12px;\n",
              "    }\n",
              "\n",
              "    .colab-df-convert {\n",
              "      background-color: #E8F0FE;\n",
              "      border: none;\n",
              "      border-radius: 50%;\n",
              "      cursor: pointer;\n",
              "      display: none;\n",
              "      fill: #1967D2;\n",
              "      height: 32px;\n",
              "      padding: 0 0 0 0;\n",
              "      width: 32px;\n",
              "    }\n",
              "\n",
              "    .colab-df-convert:hover {\n",
              "      background-color: #E2EBFA;\n",
              "      box-shadow: 0px 1px 2px rgba(60, 64, 67, 0.3), 0px 1px 3px 1px rgba(60, 64, 67, 0.15);\n",
              "      fill: #174EA6;\n",
              "    }\n",
              "\n",
              "    [theme=dark] .colab-df-convert {\n",
              "      background-color: #3B4455;\n",
              "      fill: #D2E3FC;\n",
              "    }\n",
              "\n",
              "    [theme=dark] .colab-df-convert:hover {\n",
              "      background-color: #434B5C;\n",
              "      box-shadow: 0px 1px 3px 1px rgba(0, 0, 0, 0.15);\n",
              "      filter: drop-shadow(0px 1px 2px rgba(0, 0, 0, 0.3));\n",
              "      fill: #FFFFFF;\n",
              "    }\n",
              "  </style>\n",
              "\n",
              "      <script>\n",
              "        const buttonEl =\n",
              "          document.querySelector('#df-325596e4-4a06-4dc9-be63-4d27279e482a button.colab-df-convert');\n",
              "        buttonEl.style.display =\n",
              "          google.colab.kernel.accessAllowed ? 'block' : 'none';\n",
              "\n",
              "        async function convertToInteractive(key) {\n",
              "          const element = document.querySelector('#df-325596e4-4a06-4dc9-be63-4d27279e482a');\n",
              "          const dataTable =\n",
              "            await google.colab.kernel.invokeFunction('convertToInteractive',\n",
              "                                                     [key], {});\n",
              "          if (!dataTable) return;\n",
              "\n",
              "          const docLinkHtml = 'Like what you see? Visit the ' +\n",
              "            '<a target=\"_blank\" href=https://colab.research.google.com/notebooks/data_table.ipynb>data table notebook</a>'\n",
              "            + ' to learn more about interactive tables.';\n",
              "          element.innerHTML = '';\n",
              "          dataTable['output_type'] = 'display_data';\n",
              "          await google.colab.output.renderOutput(dataTable, element);\n",
              "          const docLink = document.createElement('div');\n",
              "          docLink.innerHTML = docLinkHtml;\n",
              "          element.appendChild(docLink);\n",
              "        }\n",
              "      </script>\n",
              "    </div>\n",
              "  </div>\n",
              "  "
            ]
          },
          "metadata": {},
          "execution_count": 9
        }
      ],
      "source": [
        "df.head()"
      ]
    },
    {
      "cell_type": "markdown",
      "id": "855ad621",
      "metadata": {
        "id": "855ad621"
      },
      "source": [
        "<h3>Train test split</h3>"
      ]
    },
    {
      "cell_type": "code",
      "execution_count": 16,
      "id": "6b1ee737",
      "metadata": {
        "id": "6b1ee737"
      },
      "outputs": [],
      "source": [
        "from sklearn.model_selection import train_test_split\n",
        "\n",
        "X_train, X_test, y_train, y_test = train_test_split(df.Processed_Title, df.is_depression, test_size=0.2)"
      ]
    },
    {
      "cell_type": "code",
      "execution_count": 17,
      "id": "f6dd7f2a",
      "metadata": {
        "id": "f6dd7f2a",
        "outputId": "9047e2c1-911e-46d1-d2b4-98f0248c47bc",
        "colab": {
          "base_uri": "https://localhost:8080/"
        }
      },
      "outputs": [
        {
          "output_type": "execute_result",
          "data": {
            "text/plain": [
              "(6184,)"
            ]
          },
          "metadata": {},
          "execution_count": 17
        }
      ],
      "source": [
        "X_train.shape"
      ]
    },
    {
      "cell_type": "code",
      "execution_count": 18,
      "id": "985f64d6",
      "metadata": {
        "id": "985f64d6",
        "outputId": "d20e2fc8-5615-40d7-8770-bac127472ee3",
        "colab": {
          "base_uri": "https://localhost:8080/"
        }
      },
      "outputs": [
        {
          "output_type": "execute_result",
          "data": {
            "text/plain": [
              "(1547,)"
            ]
          },
          "metadata": {},
          "execution_count": 18
        }
      ],
      "source": [
        "X_test.shape"
      ]
    },
    {
      "cell_type": "code",
      "execution_count": 19,
      "id": "6b00cfa2",
      "metadata": {
        "id": "6b00cfa2",
        "outputId": "d7496e04-5392-4052-f26b-e20e2091aa91",
        "colab": {
          "base_uri": "https://localhost:8080/"
        }
      },
      "outputs": [
        {
          "output_type": "execute_result",
          "data": {
            "text/plain": [
              "pandas.core.series.Series"
            ]
          },
          "metadata": {},
          "execution_count": 19
        }
      ],
      "source": [
        "type(X_train)"
      ]
    },
    {
      "cell_type": "code",
      "execution_count": 20,
      "id": "dcc7a38f",
      "metadata": {
        "id": "dcc7a38f",
        "outputId": "9ffaf819-dfc0-42a9-fc79-639b3c8caf8f",
        "colab": {
          "base_uri": "https://localhost:8080/"
        }
      },
      "outputs": [
        {
          "output_type": "execute_result",
          "data": {
            "text/plain": [
              "39      ['i', 'just', 'feel', 'like', 'i', 'll', 'have...\n",
              "6371    ['no', 'squirrel', 'today', 'they', 'must', 'b...\n",
              "7478    ['stuff', 'find', 'a', 'small', 'enough', 'pic...\n",
              "2090    ['sorry', 'to', 'ask', 'again', 'i', 'm', 'jus...\n",
              "Name: Processed_Title, dtype: object"
            ]
          },
          "metadata": {},
          "execution_count": 20
        }
      ],
      "source": [
        "X_train[:4]"
      ]
    },
    {
      "cell_type": "code",
      "execution_count": 21,
      "id": "2aa3b8b8",
      "metadata": {
        "id": "2aa3b8b8",
        "outputId": "52d1f7fc-eb19-487e-d373-88e3b0d3a8c3",
        "colab": {
          "base_uri": "https://localhost:8080/"
        }
      },
      "outputs": [
        {
          "output_type": "execute_result",
          "data": {
            "text/plain": [
              "pandas.core.series.Series"
            ]
          },
          "metadata": {},
          "execution_count": 21
        }
      ],
      "source": [
        "type(y_train)"
      ]
    },
    {
      "cell_type": "code",
      "execution_count": 22,
      "id": "15354570",
      "metadata": {
        "id": "15354570",
        "outputId": "df58079e-6a08-4bb1-fef8-e60078870312",
        "colab": {
          "base_uri": "https://localhost:8080/"
        }
      },
      "outputs": [
        {
          "output_type": "execute_result",
          "data": {
            "text/plain": [
              "39      1\n",
              "6371    0\n",
              "7478    0\n",
              "2090    1\n",
              "Name: is_depression, dtype: int64"
            ]
          },
          "metadata": {},
          "execution_count": 22
        }
      ],
      "source": [
        "y_train[:4]"
      ]
    },
    {
      "cell_type": "code",
      "execution_count": 23,
      "id": "efed508e",
      "metadata": {
        "scrolled": true,
        "id": "efed508e",
        "outputId": "10c391b6-ddf7-4de1-b671-4051e8372186",
        "colab": {
          "base_uri": "https://localhost:8080/"
        }
      },
      "outputs": [
        {
          "output_type": "execute_result",
          "data": {
            "text/plain": [
              "numpy.ndarray"
            ]
          },
          "metadata": {},
          "execution_count": 23
        }
      ],
      "source": [
        "type(X_train.values)"
      ]
    },
    {
      "cell_type": "markdown",
      "id": "782b3d95",
      "metadata": {
        "id": "782b3d95"
      },
      "source": [
        "<h3>Create bag of words representation using CountVectorizer</h3>"
      ]
    },
    {
      "cell_type": "code",
      "execution_count": 24,
      "id": "b52db167",
      "metadata": {
        "id": "b52db167",
        "outputId": "6dbd09b6-3534-42f2-fa65-90ee7f621826",
        "colab": {
          "base_uri": "https://localhost:8080/"
        }
      },
      "outputs": [
        {
          "output_type": "execute_result",
          "data": {
            "text/plain": [
              "<6184x11579 sparse matrix of type '<class 'numpy.int64'>'\n",
              "\twith 249399 stored elements in Compressed Sparse Row format>"
            ]
          },
          "metadata": {},
          "execution_count": 24
        }
      ],
      "source": [
        "from sklearn.feature_extraction.text import CountVectorizer\n",
        "\n",
        "v = CountVectorizer()\n",
        "\n",
        "X_train_cv = v.fit_transform(X_train.values)\n",
        "X_train_cv"
      ]
    },
    {
      "cell_type": "code",
      "execution_count": 25,
      "id": "7dd194ae",
      "metadata": {
        "id": "7dd194ae",
        "outputId": "51cdb6e0-f537-4e06-c9bc-9751cc9da60a",
        "colab": {
          "base_uri": "https://localhost:8080/"
        }
      },
      "outputs": [
        {
          "output_type": "execute_result",
          "data": {
            "text/plain": [
              "array([0, 0, 0, ..., 0, 0, 0])"
            ]
          },
          "metadata": {},
          "execution_count": 25
        }
      ],
      "source": [
        "X_train_cv.toarray()[:2][0]"
      ]
    },
    {
      "cell_type": "code",
      "execution_count": 26,
      "id": "fa93886d",
      "metadata": {
        "id": "fa93886d",
        "outputId": "96b5a4c1-536d-42db-c3eb-8ca08b3f5a1f",
        "colab": {
          "base_uri": "https://localhost:8080/"
        }
      },
      "outputs": [
        {
          "output_type": "execute_result",
          "data": {
            "text/plain": [
              "(6184, 11579)"
            ]
          },
          "metadata": {},
          "execution_count": 26
        }
      ],
      "source": [
        "X_train_cv.shape"
      ]
    },
    {
      "cell_type": "code",
      "execution_count": 27,
      "id": "fbc1fd6d",
      "metadata": {
        "id": "fbc1fd6d",
        "outputId": "67ad25f4-490b-40ec-ee24-53cf803c9673",
        "colab": {
          "base_uri": "https://localhost:8080/"
        }
      },
      "outputs": [
        {
          "output_type": "execute_result",
          "data": {
            "text/plain": [
              "['__annotations__',\n",
              " '__class__',\n",
              " '__delattr__',\n",
              " '__dict__',\n",
              " '__dir__',\n",
              " '__doc__',\n",
              " '__eq__',\n",
              " '__format__',\n",
              " '__ge__',\n",
              " '__getattribute__',\n",
              " '__getstate__',\n",
              " '__gt__',\n",
              " '__hash__',\n",
              " '__init__',\n",
              " '__init_subclass__',\n",
              " '__le__',\n",
              " '__lt__',\n",
              " '__module__',\n",
              " '__ne__',\n",
              " '__new__',\n",
              " '__reduce__',\n",
              " '__reduce_ex__',\n",
              " '__repr__',\n",
              " '__setattr__',\n",
              " '__setstate__',\n",
              " '__sizeof__',\n",
              " '__str__',\n",
              " '__subclasshook__',\n",
              " '__weakref__',\n",
              " '_char_ngrams',\n",
              " '_char_wb_ngrams',\n",
              " '_check_feature_names',\n",
              " '_check_n_features',\n",
              " '_check_stop_words_consistency',\n",
              " '_check_vocabulary',\n",
              " '_count_vocab',\n",
              " '_get_param_names',\n",
              " '_get_tags',\n",
              " '_limit_features',\n",
              " '_more_tags',\n",
              " '_parameter_constraints',\n",
              " '_repr_html_',\n",
              " '_repr_html_inner',\n",
              " '_repr_mimebundle_',\n",
              " '_sort_features',\n",
              " '_stop_words_id',\n",
              " '_validate_data',\n",
              " '_validate_ngram_range',\n",
              " '_validate_params',\n",
              " '_validate_vocabulary',\n",
              " '_warn_for_unused_params',\n",
              " '_white_spaces',\n",
              " '_word_ngrams',\n",
              " 'analyzer',\n",
              " 'binary',\n",
              " 'build_analyzer',\n",
              " 'build_preprocessor',\n",
              " 'build_tokenizer',\n",
              " 'decode',\n",
              " 'decode_error',\n",
              " 'dtype',\n",
              " 'encoding',\n",
              " 'fit',\n",
              " 'fit_transform',\n",
              " 'fixed_vocabulary_',\n",
              " 'get_feature_names_out',\n",
              " 'get_params',\n",
              " 'get_stop_words',\n",
              " 'input',\n",
              " 'inverse_transform',\n",
              " 'lowercase',\n",
              " 'max_df',\n",
              " 'max_features',\n",
              " 'min_df',\n",
              " 'ngram_range',\n",
              " 'preprocessor',\n",
              " 'set_params',\n",
              " 'stop_words',\n",
              " 'stop_words_',\n",
              " 'strip_accents',\n",
              " 'token_pattern',\n",
              " 'tokenizer',\n",
              " 'transform',\n",
              " 'vocabulary',\n",
              " 'vocabulary_']"
            ]
          },
          "metadata": {},
          "execution_count": 27
        }
      ],
      "source": [
        "dir(v)"
      ]
    },
    {
      "cell_type": "code",
      "execution_count": 28,
      "id": "0314f2f3",
      "metadata": {
        "id": "0314f2f3",
        "outputId": "94cbf1b6-c0a7-4ffe-ba39-ad4f054dc6eb",
        "colab": {
          "base_uri": "https://localhost:8080/"
        }
      },
      "outputs": [
        {
          "output_type": "execute_result",
          "data": {
            "text/plain": [
              "{'just': 5597,\n",
              " 'feel': 3731,\n",
              " 'like': 5978,\n",
              " 'll': 6038,\n",
              " 'have': 4562,\n",
              " 'depression': 2647,\n",
              " 'forever': 3952,\n",
              " 'nothing': 7107,\n",
              " 'really': 8404,\n",
              " 'work': 11397,\n",
              " 'at': 717,\n",
              " 'least': 5890,\n",
              " 'not': 7105,\n",
              " 'for': 3930,\n",
              " 'long': 6078,\n",
              " 'too': 10430,\n",
              " 'tire': 10380,\n",
              " 'don': 2954,\n",
              " 'want': 11172,\n",
              " 'to': 10396,\n",
              " 'try': 10595,\n",
              " 'so': 9477,\n",
              " 'hard': 4530,\n",
              " 'all': 356,\n",
              " 'the': 10230,\n",
              " 'time': 10365,\n",
              " 'anymore': 541,\n",
              " 'get': 4235,\n",
              " 'better': 1063,\n",
              " 'give': 4263,\n",
              " 'up': 10874,\n",
              " 'no': 7056,\n",
              " 'squirrel': 9663,\n",
              " 'today': 10399,\n",
              " 'they': 10273,\n",
              " 'must': 6822,\n",
              " 'be': 964,\n",
              " 'hide': 4690,\n",
              " 'stuff': 9837,\n",
              " 'find': 3797,\n",
              " 'small': 9427,\n",
              " 'enough': 3348,\n",
              " 'picture': 7773,\n",
              " 'will': 11332,\n",
              " 'this': 10292,\n",
              " 'weird': 11242,\n",
              " 'face': 3614,\n",
              " 'rest': 8643,\n",
              " 'of': 7234,\n",
              " 'my': 6830,\n",
              " 'twitter': 10648,\n",
              " 'life': 5961,\n",
              " 'lol': 6068,\n",
              " 'sorry': 9551,\n",
              " 'ask': 680,\n",
              " 'again': 273,\n",
              " 'do': 2924,\n",
              " 'great': 4385,\n",
              " 'moment': 6689,\n",
              " 'if': 4976,\n",
              " 'hypothetical': 4932,\n",
              " 'end': 3312,\n",
              " 'and': 462,\n",
              " 'prior': 8066,\n",
              " 'it': 5376,\n",
              " 'session': 9133,\n",
              " 'with': 11364,\n",
              " 'therapist': 10261,\n",
              " 'he': 4575,\n",
              " 'wouldn': 11422,\n",
              " 'in': 5071,\n",
              " 'trouble': 10578,\n",
              " 'right': 8730,\n",
              " 'doesn': 2935,\n",
              " 'deserve': 2672,\n",
              " 'or': 7352,\n",
              " 'lose': 6098,\n",
              " 'license': 5953,\n",
              " 'over': 7428,\n",
              " 'me': 6386,\n",
              " 'that': 10226,\n",
              " 'make': 6217,\n",
              " 'sense': 9098,\n",
              " 'doe': 2934,\n",
              " 'anyone': 542,\n",
              " 'info': 5163,\n",
              " 'on': 7298,\n",
              " 'late': 5828,\n",
              " 'night': 7020,\n",
              " 're': 8384,\n",
              " 'run': 8860,\n",
              " 'http': 4856,\n",
              " 'ff': 3758,\n",
              " 'im': 5012,\n",
              " 'y0': 11460,\n",
              " 'allyheman': 374,\n",
              " 'but': 1438,\n",
              " 'big': 1085,\n",
              " 'fan': 3665,\n",
              " 'camila': 1497,\n",
              " 'belle': 1018,\n",
              " 'currently': 2379,\n",
              " 'take': 10070,\n",
              " 'psych': 8174,\n",
              " 'med': 6404,\n",
              " 'noleft': 7070,\n",
              " 'buscar': 1429,\n",
              " 'lithium': 6021,\n",
              " 'also': 388,\n",
              " 'topamax': 10438,\n",
              " 'gabapentin': 4123,\n",
              " 'chronic': 1790,\n",
              " 'migraine': 6551,\n",
              " 'psychiatrist': 8178,\n",
              " 'consider': 2126,\n",
              " 'these': 10270,\n",
              " 'even': 3479,\n",
              " 'though': 10306,\n",
              " 'prescribe': 8028,\n",
              " 'by': 1451,\n",
              " 'neurologist': 6967,\n",
              " 'felt': 3738,\n",
              " 'difference': 2751,\n",
              " 'mood': 6713,\n",
              " 'when': 11276,\n",
              " 'go': 4296,\n",
              " 'ive': 5399,\n",
              " 'year': 11480,\n",
              " 'now': 7126,\n",
              " 'amp': 437,\n",
              " '00b': 8,\n",
              " 'wa': 11154,\n",
              " 'recently': 8426,\n",
              " 'diagnose': 2730,\n",
              " 'idiopathic': 4971,\n",
              " 'hypersomnia': 4920,\n",
              " 'sleep': 9391,\n",
              " 'medicine': 6416,\n",
              " 'doctor': 2929,\n",
              " 'recommend': 8445,\n",
              " 'modafinil': 6667,\n",
              " 'primary': 8056,\n",
              " 'say': 8969,\n",
              " 'medication': 6414,\n",
              " 'would': 11421,\n",
              " 'probably': 8081,\n",
              " 'help': 4648,\n",
              " 'lot': 6102,\n",
              " 'look': 6086,\n",
              " 'forward': 3980,\n",
              " 'maybe': 6370,\n",
              " 'some': 9522,\n",
              " 'energy': 3326,\n",
              " 'something': 9527,\n",
              " 'other': 7389,\n",
              " 'than': 10218,\n",
              " 'almost': 376,\n",
              " 'an': 448,\n",
              " 'ultimatum': 10702,\n",
              " 'she': 9192,\n",
              " 'pretty': 8043,\n",
              " 'much': 6788,\n",
              " 'come': 1978,\n",
              " 'off': 7236,\n",
              " 'one': 7301,\n",
              " 'tell': 10151,\n",
              " 'her': 4665,\n",
              " 'case': 1581,\n",
              " 'then': 10254,\n",
              " 'forget': 3954,\n",
              " 'about': 105,\n",
              " 'didn': 2744,\n",
              " 'risk': 8743,\n",
              " 'slip': 9409,\n",
              " 'especially': 3437,\n",
              " 'because': 980,\n",
              " 'anything': 544,\n",
              " 'okay': 7270,\n",
              " 'myself': 6835,\n",
              " 'happy': 4526,\n",
              " 'cure': 2372,\n",
              " 'compare': 2015,\n",
              " 'many': 6272,\n",
              " 'hypothyroidism': 4933,\n",
              " 'high': 4695,\n",
              " 'cholesterol': 1773,\n",
              " 'watch': 11194,\n",
              " 'someone': 9526,\n",
              " 'smoke': 9446,\n",
              " 'pack': 7496,\n",
              " 'cigarette': 1805,\n",
              " 'day': 2486,\n",
              " 'how': 4843,\n",
              " 'unhealthy': 10790,\n",
              " 'guess': 4433,\n",
              " 'confuse': 2103,\n",
              " 'hurt': 4895,\n",
              " 'see': 9058,\n",
              " 'put': 8246,\n",
              " 'away': 819,\n",
              " 'voice': 11114,\n",
              " 'comfortable': 1984,\n",
              " 'continue': 2168,\n",
              " 'bring': 1339,\n",
              " 'their': 10241,\n",
              " 'own': 7478,\n",
              " 'purpose': 8234,\n",
              " 'any': 535,\n",
              " 'idea': 4963,\n",
              " 'move': 6763,\n",
              " 'thisisguan': 10293,\n",
              " 've': 10980,\n",
              " 'setraline': 9137,\n",
              " 'anti': 518,\n",
              " 'depress': 2646,\n",
              " 'begin': 996,\n",
              " 'serious': 9122,\n",
              " 'anxiety': 531,\n",
              " 'side': 9278,\n",
              " 'effect': 3176,\n",
              " 'mental': 6462,\n",
              " 'start': 9713,\n",
              " 'them': 10249,\n",
              " 'relieve': 8539,\n",
              " 'become': 982,\n",
              " 'suicidal': 9898,\n",
              " 'think': 10284,\n",
              " 'happen': 4521,\n",
              " 'read': 8389,\n",
              " 'story': 9790,\n",
              " 'people': 7663,\n",
              " 'there': 10263,\n",
              " 'advice': 245,\n",
              " 'can': 1503,\n",
              " 'alleviate': 367,\n",
              " 'worry': 11412,\n",
              " 'spring': 9653,\n",
              " 'break': 1303,\n",
              " 'school': 8997,\n",
              " 'monster': 6706,\n",
              " 'seriously': 9123,\n",
              " 'wake': 11161,\n",
              " 'early': 3124,\n",
              " 'oww': 7480,\n",
              " 'hit': 4730,\n",
              " 'elbow': 3215,\n",
              " 'door': 2966,\n",
              " 'former': 3965,\n",
              " 'ohio': 7258,\n",
              " 'st': 9672,\n",
              " 'football': 3923,\n",
              " 'player': 7839,\n",
              " 'harry': 4547,\n",
              " 'miller': 6571,\n",
              " 'medically': 6413,\n",
              " 'retire': 8668,\n",
              " 'from': 4058,\n",
              " 'due': 3068,\n",
              " 'mentalhealth': 6464,\n",
              " 'concern': 2064,\n",
              " 'deliver': 2594,\n",
              " 'powerful': 7976,\n",
              " 'message': 6482,\n",
              " 'struggle': 9829,\n",
              " 'co': 1913,\n",
              " 'lkynhiifj': 6037,\n",
              " 'mentalhealthawareness': 6465,\n",
              " 'mentalhealthmatters': 6466,\n",
              " 'endthestigma': 3322,\n",
              " 'health': 4590,\n",
              " 'wellness': 11249,\n",
              " 'mrskutcher': 6773,\n",
              " 'wish': 11361,\n",
              " 'only': 7309,\n",
              " 'bad': 863,\n",
              " 'sync': 10036,\n",
              " 'germany': 4232,\n",
              " 'where': 11278,\n",
              " 'subtitle': 9870,\n",
              " 'dont': 2963,\n",
              " 'vinpocetine': 11070,\n",
              " 'symptom': 10033,\n",
              " 'disorder': 2855,\n",
              " 'relief': 8538,\n",
              " 'zapfkyxdg9': 11543,\n",
              " 'hqhozyg': 4849,\n",
              " 'good': 4312,\n",
              " 'morning': 6729,\n",
              " 'out': 7400,\n",
              " 'need': 6929,\n",
              " 'wisdom': 11357,\n",
              " 'tooth': 10433,\n",
              " 'dtizzler': 3058,\n",
              " 'entire': 3371,\n",
              " 'walk': 11163,\n",
              " 'train': 10486,\n",
              " 'station': 9724,\n",
              " 'undo': 10764,\n",
              " 'sure': 9964,\n",
              " 'belong': 1020,\n",
              " 'here': 4668,\n",
              " 'down': 2990,\n",
              " 'yr': 11523,\n",
              " 'ago': 284,\n",
              " 'visit': 11091,\n",
              " 'friend': 4045,\n",
              " 'eugene': 3465,\n",
              " 'oregon': 7363,\n",
              " 'graduation': 4355,\n",
              " 'two': 10653,\n",
              " 'before': 991,\n",
              " 'ceremony': 1648,\n",
              " 'palmer': 7519,\n",
              " 'genie': 4212,\n",
              " 'bf': 1070,\n",
              " 'gf': 4238,\n",
              " 'parent': 7554,\n",
              " 'his': 4726,\n",
              " 'sister': 9341,\n",
              " 'river': 8749,\n",
              " 'tube': 10607,\n",
              " 'everyone': 3491,\n",
              " 'we': 11209,\n",
              " 'should': 9245,\n",
              " 'home': 4769,\n",
              " 'anyway': 546,\n",
              " 'tie': 10348,\n",
              " 'together': 10404,\n",
              " 'launch': 5846,\n",
              " 'within': 11367,\n",
              " 'min': 6578,\n",
              " 'pop': 7916,\n",
              " 'far': 3675,\n",
              " 'shore': 9234,\n",
              " 'rapid': 8355,\n",
              " 'eventually': 3484,\n",
              " 'tune': 10620,\n",
              " 'destroy': 2689,\n",
              " 'use': 10913,\n",
              " 'height': 4630,\n",
              " 'dig': 2757,\n",
              " 'heel': 4625,\n",
              " 'into': 5295,\n",
              " 'revert': 8683,\n",
              " 'hold': 4751,\n",
              " 'string': 9820,\n",
              " 'wrap': 11427,\n",
              " 'around': 639,\n",
              " 'arm': 632,\n",
              " 'could': 2235,\n",
              " 'adjust': 213,\n",
              " 'well': 11245,\n",
              " 'remain': 8548,\n",
              " 'cease': 1623,\n",
              " 'still': 9764,\n",
              " 'water': 11196,\n",
              " 'merely': 6479,\n",
              " 'hang': 4512,\n",
              " 'tread': 10531,\n",
              " 'let': 5926,\n",
              " 'angle': 481,\n",
              " 'leg': 5905,\n",
              " 'best': 1050,\n",
              " 'counter': 2248,\n",
              " 'entanglement': 3360,\n",
              " 'without': 11368,\n",
              " 'rock': 8781,\n",
              " 'touch': 10455,\n",
              " 'bottom': 1253,\n",
              " 'gain': 4131,\n",
              " 'stability': 9675,\n",
              " 'deep': 2547,\n",
              " 'scar': 8976,\n",
              " 'swim': 10017,\n",
              " 'polo': 7907,\n",
              " 'grow': 4420,\n",
              " 'beach': 965,\n",
              " 'reason': 8409,\n",
              " 'create': 2293,\n",
              " 'panic': 7527,\n",
              " 'remind': 8554,\n",
              " 'keep': 5649,\n",
              " 'check': 1715,\n",
              " 'slam': 9382,\n",
              " 'swallow': 9998,\n",
              " 'remember': 8553,\n",
              " 'correctly': 2218,\n",
              " 'more': 6724,\n",
              " 'calm': 1484,\n",
              " 'able': 100,\n",
              " 'push': 8242,\n",
              " 'memory': 6454,\n",
              " 'hazy': 4571,\n",
              " 'road': 8759,\n",
              " 'back': 852,\n",
              " 'our': 7396,\n",
              " 'point': 7882,\n",
              " 'car': 1538,\n",
              " 'place': 7811,\n",
              " 'haven': 4563,\n",
              " 'since': 9321,\n",
              " 'tear': 10124,\n",
              " 'every': 3488,\n",
              " 'close': 1887,\n",
              " 'eye': 3604,\n",
              " 'under': 10740,\n",
              " 'rip': 8736,\n",
              " 'surface': 9967,\n",
              " 'ocean': 7217,\n",
              " 'body': 1207,\n",
              " 'understand': 10755,\n",
              " 'post': 7949,\n",
              " 'thank': 10219,\n",
              " 'you': 11506,\n",
              " 'hibanick': 4688,\n",
              " 'yeah': 11479,\n",
              " 'aw': 811,\n",
              " 'know': 5738,\n",
              " 'stand': 9699,\n",
              " 'chance': 1678,\n",
              " 'honestly': 4785,\n",
              " 'everything': 3492,\n",
              " 'block': 1176,\n",
              " 'who': 11300,\n",
              " 'toxic': 10469,\n",
              " 'manipulative': 6256,\n",
              " 'stupid': 9840,\n",
              " 'worthless': 11418,\n",
              " 'why': 11311,\n",
              " 'live': 6028,\n",
              " 'fast': 3687,\n",
              " 'way': 11202,\n",
              " 'kill': 5696,\n",
              " 'peacefully': 7633,\n",
              " 'quit': 8303,\n",
              " 'job': 5514,\n",
              " 'new': 6978,\n",
              " 'save': 8965,\n",
              " 'foreign': 3945,\n",
              " 'country': 2251,\n",
              " 'aren': 617,\n",
              " 'option': 7350,\n",
              " 'interview': 5290,\n",
              " 'anxious': 533,\n",
              " 'part': 7568,\n",
              " 'shady': 9166,\n",
              " 'reduce': 8472,\n",
              " 'tax': 10105,\n",
              " 'etc': 3455,\n",
              " 'although': 393,\n",
              " 'most': 6737,\n",
              " 'care': 1550,\n",
              " 'rule': 8856,\n",
              " 'couldn': 2236,\n",
              " 'easy': 3138,\n",
              " 'stop': 9783,\n",
              " 'badly': 865,\n",
              " 'pain': 7507,\n",
              " 'mind': 6579,\n",
              " 'piece': 7774,\n",
              " 'treat': 10534,\n",
              " 'real': 8394,\n",
              " 'stranger': 9798,\n",
              " 'family': 3656,\n",
              " 'week': 11235,\n",
              " 'sort': 9552,\n",
              " 'link': 6002,\n",
              " 'apartment': 554,\n",
              " 'leave': 5893,\n",
              " 'very': 11021,\n",
              " 'often': 7251,\n",
              " 'afford': 258,\n",
              " 'fuck': 4077,\n",
              " 'hate': 4555,\n",
              " 'existence': 3549,\n",
              " 'shit': 9218,\n",
              " 'greater': 4386,\n",
              " 'consequence': 2121,\n",
              " 'example': 3516,\n",
              " 'bed': 983,\n",
              " 'knee': 5730,\n",
              " 'bump': 1406,\n",
              " 'nightstand': 7025,\n",
              " 'which': 11283,\n",
              " 'oz': 7487,\n",
              " 'router': 8826,\n",
              " 'soak': 9478,\n",
              " 'computer': 2054,\n",
              " 'throw': 10322,\n",
              " 'money': 6698,\n",
              " 'effort': 3183,\n",
              " 'turn': 10626,\n",
              " 'always': 397,\n",
              " 'love': 6113,\n",
              " 'leaf': 5881,\n",
              " 'pointless': 7884,\n",
              " 'never': 6975,\n",
              " 'nightmare': 7023,\n",
              " 'tomb': 10414,\n",
              " 'hell': 4640,\n",
              " 'wont': 11387,\n",
              " 'rudd': 8847,\n",
              " 'those': 10305,\n",
              " 'doubt': 2986,\n",
              " 'calculator': 1474,\n",
              " 'ato': 728,\n",
              " 'gov': 4342,\n",
              " 'au': 752,\n",
              " 'script': 9024,\n",
              " 'axis': 829,\n",
              " 'asp': 682,\n",
              " 'context': 2166,\n",
              " 'kb': 5643,\n",
              " 'es': 3426,\n",
              " 'xr': 11454,\n",
              " 'ok': 7269,\n",
              " 'massively': 6333,\n",
              " 'overdose': 7437,\n",
              " 'prescription': 8029,\n",
              " 'win': 11341,\n",
              " 'till': 10360,\n",
              " 'peace': 7631,\n",
              " 'complain': 2027,\n",
              " 'last': 5824,\n",
              " 'goodbye': 4313,\n",
              " 'finally': 3793,\n",
              " 'choice': 1770,\n",
              " 'first': 3821,\n",
              " 'nice': 7003,\n",
              " 'luck': 6134,\n",
              " 'sigh': 9284,\n",
              " 'gon': 4309,\n",
              " 'na': 6853,\n",
              " 'while': 11284,\n",
              " 'file': 3780,\n",
              " 'arch': 612,\n",
              " 'line': 5997,\n",
              " 'somewhere': 9531,\n",
              " 'problem': 8084,\n",
              " 'silence': 9297,\n",
              " 'usually': 10922,\n",
              " 'complete': 2029,\n",
              " 'drown': 3042,\n",
              " 'noise': 7069,\n",
              " 'play': 7836,\n",
              " 'music': 6815,\n",
              " 'background': 854,\n",
              " 'veritable': 11009,\n",
              " 'withstand': 11369,\n",
              " 'alone': 378,\n",
              " 'isn': 5365,\n",
              " 'exactly': 3510,\n",
              " 'conform': 2100,\n",
              " 'sometimes': 9529,\n",
              " 'completely': 2030,\n",
              " 'cut': 2393,\n",
              " 'outside': 7419,\n",
              " 'world': 11406,\n",
              " 'what': 11267,\n",
              " 'damn': 2428,\n",
              " 'frustrate': 4069,\n",
              " 'guy': 4451,\n",
              " 'rustyrockets': 8872,\n",
              " 'five': 3829,\n",
              " 'towards': 10465,\n",
              " 'fine': 3799,\n",
              " 'skin': 9366,\n",
              " 'pay': 7621,\n",
              " 'al': 321,\n",
              " 'darling': 2462,\n",
              " 'eyebrows': 3606,\n",
              " 'wave': 11200,\n",
              " 'sick': 9275,\n",
              " 'spend': 9613,\n",
              " 'hour': 4836,\n",
              " 'sit': 9342,\n",
              " 'shower': 9253,\n",
              " 'cause': 1610,\n",
              " 'pure': 8230,\n",
              " 'champ': 1674,\n",
              " 'absent': 115,\n",
              " 'father': 3694,\n",
              " 'mother': 6740,\n",
              " 'attempt': 739,\n",
              " 'suicide': 9900,\n",
              " 'normal': 7091,\n",
              " 'thing': 10282,\n",
              " 'manipulation': 6255,\n",
              " 'threat': 10313,\n",
              " 'ha': 4456,\n",
              " 'worse': 11413,\n",
              " 'learn': 5888,\n",
              " 'despise': 2682,\n",
              " 'anybody': 538,\n",
              " 'victim': 11039,\n",
              " 'period': 7680,\n",
              " 'cry': 2343,\n",
              " 'address': 208,\n",
              " 'physical': 7758,\n",
              " 'abuse': 127,\n",
              " 'access': 142,\n",
              " 'barely': 909,\n",
              " 'talk': 10078,\n",
              " 'miss': 6624,\n",
              " 'head': 4576,\n",
              " 'kid': 5691,\n",
              " 'include': 5090,\n",
              " 'suck': 9883,\n",
              " 'mom': 6688,\n",
              " 'sibling': 9272,\n",
              " 'each': 3118,\n",
              " 'mess': 6481,\n",
              " 'mourn': 6756,\n",
              " 'grieve': 4402,\n",
              " 'num': 7145,\n",
              " 'pandemic': 7524,\n",
              " 'engage': 3329,\n",
              " 'express': 3580,\n",
              " 'partner': 7581,\n",
              " 'severe': 9147,\n",
              " 'daily': 2418,\n",
              " 'basis': 933,\n",
              " 'past': 7596,\n",
              " 'regret': 8501,\n",
              " 'once': 7299,\n",
              " 'hospital': 4820,\n",
              " 'urge': 10902,\n",
              " 'overwhelm': 7472,\n",
              " 'impact': 5042,\n",
              " 'unhappy': 10789,\n",
              " 'alive': 355,\n",
              " 'act': 175,\n",
              " 'exhaust': 3543,\n",
              " 'niece': 7018,\n",
              " 'hear': 4597,\n",
              " 'ex': 3505,\n",
              " 'genuine': 4221,\n",
              " 'pretend': 8041,\n",
              " 'front': 4060,\n",
              " 'aware': 817,\n",
              " 'relationship': 8523,\n",
              " 'rocky': 8783,\n",
              " 'bond': 1218,\n",
              " 'hope': 4802,\n",
              " 'connection': 2111,\n",
              " 'mediocre': 6418,\n",
              " 'hop': 4800,\n",
              " 'therapy': 10262,\n",
              " 'enjoy': 3342,\n",
              " 'soul': 9558,\n",
              " 'listen': 6015,\n",
              " 'medfitblondie': 6405,\n",
              " 'brain': 1285,\n",
              " 'alter': 390,\n",
              " 'anger': 480,\n",
              " 'god': 4300,\n",
              " 'bless': 1161,\n",
              " 'combat': 1973,\n",
              " 'loneliness': 6075,\n",
              " 'involve': 5324,\n",
              " 'club': 1901,\n",
              " 'interest': 5266,\n",
              " 'martial': 6314,\n",
              " 'art': 651,\n",
              " 'initiate': 5183,\n",
              " 'conversation': 2185,\n",
              " 'man': 6239,\n",
              " 'low': 6120,\n",
              " 'different': 2752,\n",
              " 'meet': 6425,\n",
              " 'connect': 2109,\n",
              " 'fade': 3628,\n",
              " 'unless': 10809,\n",
              " 'flake': 3837,\n",
              " 'repeatedly': 8578,\n",
              " 'after': 267,\n",
              " 'invite': 5322,\n",
              " 'numerous': 7147,\n",
              " 'yada': 11465,\n",
              " 'realize': 8403,\n",
              " 'view': 11056,\n",
              " 'gym': 4453,\n",
              " 'coach': 1914,\n",
              " 'arrogant': 649,\n",
              " 'silently': 9299,\n",
              " 'carry': 1574,\n",
              " 'newfound': 6983,\n",
              " 'confidence': 2089,\n",
              " 'reciprocate': 8435,\n",
              " 'show': 9251,\n",
              " 'girl': 4259,\n",
              " 'le': 5874,\n",
              " 'month': 6710,\n",
              " 'multiple': 6796,\n",
              " 'hot': 4830,\n",
              " 'seem': 9062,\n",
              " 'enthusiastically': 3369,\n",
              " 'accept': 139,\n",
              " 'date': 2473,\n",
              " 'rescind': 8602,\n",
              " 'instead': 5230,\n",
              " 'old': 7276,\n",
              " 'lift': 5967,\n",
              " 'stronger': 9825,\n",
              " 'confident': 2090,\n",
              " 'until': 10860,\n",
              " 'isolation': 5369,\n",
              " 'toll': 10410,\n",
              " 'through': 10320,\n",
              " 'lately': 5829,\n",
              " 'aa': 74,\n",
              " 'defeat': 2555,\n",
              " 'exist': 3547,\n",
              " 'anywhere': 548,\n",
              " 'city': 1821,\n",
              " 'experience': 3560,\n",
              " 'share': 9182,\n",
              " 'necessarily': 6923,\n",
              " 'wrong': 11435,\n",
              " 'same': 8925,\n",
              " 'fear': 3716,\n",
              " 'matter': 6355,\n",
              " 'pass': 7586,\n",
              " 'change': 1680,\n",
              " 'everyday': 3490,\n",
              " 'worst': 11415,\n",
              " 'afraid': 263,\n",
              " 'suppose': 9957,\n",
              " 'overcome': 7436,\n",
              " 'avoid': 807,\n",
              " 'lateral': 5831,\n",
              " 'flow': 3876,\n",
              " 'test': 10200,\n",
              " 'positive': 7939,\n",
              " 'extremely': 3601,\n",
              " 'fatigue': 3697,\n",
              " 'call': 1481,\n",
              " 'illness': 5002,\n",
              " 'mum': 6799,\n",
              " 'asthma': 712,\n",
              " 'please': 7847,\n",
              " 'reassure': 8413,\n",
              " 'might': 6549,\n",
              " 'assurance': 710,\n",
              " 'stomach': 9779,\n",
              " 'constitution': 2138,\n",
              " 'breathe': 1311,\n",
              " 'tight': 10352,\n",
              " 'breath': 1310,\n",
              " 'properly': 8139,\n",
              " 'impossible': 5061,\n",
              " 'chest': 1733,\n",
              " 'cant': 1521,\n",
              " 'dream': 3021,\n",
              " 'helenthornber': 4636,\n",
              " 'dunno': 3082,\n",
              " 'fruitsalads': 4067,\n",
              " 'backpack': 857,\n",
              " 'office': 7242,\n",
              " 'applejack': 580,\n",
              " 'tho': 10296,\n",
              " 'trans': 10495,\n",
              " 'kayleigh': 5641,\n",
              " 'pas': 7585,\n",
              " 'host': 4826,\n",
              " 'mention': 6470,\n",
              " 'top': 10437,\n",
              " 'fail': 3632,\n",
              " 'pussy': 8245,\n",
              " 'longest': 6081,\n",
              " 'mizzidc': 6650,\n",
              " 'nonsense': 7080,\n",
              " 'disrespect': 2865,\n",
              " 'your': 11511,\n",
              " 'human': 4870,\n",
              " 'kind': 5703,\n",
              " 'pill': 7781,\n",
              " 'stay': 9731,\n",
              " 'awake': 814,\n",
              " 'comment': 1990,\n",
              " 'zero': 11553,\n",
              " 'notification': 7112,\n",
              " 'little': 6025,\n",
              " 'easier': 3130,\n",
              " 'theekween': 10238,\n",
              " 'loss': 6100,\n",
              " 'thelmaherbs': 10246,\n",
              " 'order': 7359,\n",
              " 'uber': 10674,\n",
              " 'eat': 3139,\n",
              " 'open': 7323,\n",
              " 'delivery': 2595,\n",
              " 'rot': 8815,\n",
              " 'corpse': 2214,\n",
              " 'later': 5830,\n",
              " 'buy': 1446,\n",
              " 'rope': 8811,\n",
              " 'practice': 7987,\n",
              " 'noose': 7088,\n",
              " 'plan': 7818,\n",
              " 'dangerous': 2441,\n",
              " 'actually': 189,\n",
              " 'chicken': 1742,\n",
              " 'bite': 1126,\n",
              " 'longer': 6080,\n",
              " 'saddle': 8895,\n",
              " 'death': 2512,\n",
              " 'crash': 2287,\n",
              " 'highway': 4702,\n",
              " 'accident': 144,\n",
              " 'insurance': 5239,\n",
              " 'terrify': 10192,\n",
              " 'nobody': 7061,\n",
              " 'react': 8386,\n",
              " 'stick': 9757,\n",
              " 'awhile': 825,\n",
              " 'speak': 9589,\n",
              " 'bigger': 1086,\n",
              " 'topic': 10439,\n",
              " 'deal': 2505,\n",
              " 'extreme': 3600,\n",
              " 'literally': 6018,\n",
              " 'cheat': 1714,\n",
              " 'boyfriend': 1270,\n",
              " 'hi': 4687,\n",
              " 'yesterday': 11490,\n",
              " 'noon': 7086,\n",
              " 'restaurant': 8646,\n",
              " 'fb': 3709,\n",
              " 'fruitful': 4065,\n",
              " 'meal': 6388,\n",
              " 'toilet': 10406,\n",
              " 'third': 10287,\n",
              " 'room': 8805,\n",
              " 'exact': 3508,\n",
              " 'bathroom': 940,\n",
              " 'locate': 6052,\n",
              " 'acid': 166,\n",
              " 'plate': 7829,\n",
              " 'wall': 11164,\n",
              " 'oppress': 7342,\n",
              " 'strange': 9796,\n",
              " 'weight': 11241,\n",
              " 'regular': 8502,\n",
              " 'control': 2180,\n",
              " 'somebody': 9523,\n",
              " 'mix': 6647,\n",
              " 'perception': 7670,\n",
              " 'explain': 3566,\n",
              " 'him': 4712,\n",
              " 'flashback': 3842,\n",
              " 'may': 6369,\n",
              " 'perspective': 7706,\n",
              " 'distortion': 2879,\n",
              " 'color': 1966,\n",
              " 'hallucinations': 4489,\n",
              " 'suffer': 9888,\n",
              " 'young': 11508,\n",
              " 'age': 275,\n",
              " 'manageable': 6241,\n",
              " 'adult': 233,\n",
              " 'yet': 11491,\n",
              " 'heavy': 4617,\n",
              " 'dread': 3020,\n",
              " 'minor': 6594,\n",
              " 'inconvenience': 5100,\n",
              " 'entirely': 3372,\n",
              " 'crush': 2342,\n",
              " 'drink': 3030,\n",
              " 'alcohol': 326,\n",
              " 'regularly': 8504,\n",
              " 'hush': 4897,\n",
              " 'beat': 972,\n",
              " 'tip': 10378,\n",
              " 'appreciate': 589,\n",
              " 'ts': 10596,\n",
              " 'pa': 7492,\n",
              " 'quot': 8306,\n",
              " 'tap': 10091,\n",
              " 'croissant': 2320,\n",
              " 'tuna': 10619,\n",
              " 'dat': 2470,\n",
              " 'zuraidah': 11571,\n",
              " 'starbucks': 9706,\n",
              " 'mecha': 6401,\n",
              " 'frac': 3995,\n",
              " 'dent': 2626,\n",
              " 'clinical': 1878,\n",
              " 'smh': 9442,\n",
              " 'je': 5457,\n",
              " 'ais': 309,\n",
              " 'faire': 3637,\n",
              " 'une': 10766,\n",
              " 'tait': 10066,\n",
              " 'mon': 6694,\n",
              " 'jeu': 5490,\n",
              " 'de': 2499,\n",
              " 'pause': 7616,\n",
              " 'bu': 1379,\n",
              " 'et': 3454,\n",
              " 'avant': 795,\n",
              " 'title': 10384,\n",
              " 'bother': 1250,\n",
              " 'bridge': 1326,\n",
              " 'jump': 5586,\n",
              " 'wan': 11169,\n",
              " 'die': 2746,\n",
              " 'already': 386,\n",
              " 'crap': 2285,\n",
              " 'behind': 1004,\n",
              " 'poo': 7911,\n",
              " 'else': 3254,\n",
              " 'confrontation': 2102,\n",
              " 'angry': 483,\n",
              " 'result': 8655,\n",
              " 'bury': 1427,\n",
              " 'allow': 370,\n",
              " 'beautiful': 976,\n",
              " 'sun': 9921,\n",
              " 'shin': 9211,\n",
              " 'bird': 1115,\n",
              " 'sing': 9325,\n",
              " 'mousetrap': 6759,\n",
              " 'set': 9134,\n",
              " 'anime': 488,\n",
              " 'attackontitan': 737,\n",
              " 'vj': 11106,\n",
              " 'jjwfrow': 5506,\n",
              " 'robparsons': 8776,\n",
              " 'difficult': 2755,\n",
              " 'ever': 3485,\n",
              " 'african': 265,\n",
              " 'starve': 9717,\n",
              " 'helpless': 4652,\n",
              " 'gr': 4347,\n",
              " 'hey': 4683,\n",
              " 'demon': 2614,\n",
              " 'achieve': 162,\n",
              " 'obsess': 7200,\n",
              " 'otherwise': 7392,\n",
              " 'dead': 2500,\n",
              " 'inside': 5208,\n",
              " 'strong': 9824,\n",
              " 'individual': 5125,\n",
              " 'weakness': 11213,\n",
              " 'oblivious': 7189,\n",
              " 'inner': 5191,\n",
              " 'rabies': 8313,\n",
              " 'constantly': 2136,\n",
              " 'attack': 736,\n",
              " 'irrational': 5346,\n",
              " 'bag': 870,\n",
              " 'average': 801,\n",
              " 'education': 3170,\n",
              " 'girlfriend': 4260,\n",
              " 'holiday': 4755,\n",
              " 'addiction': 202,\n",
              " 'build': 1394,\n",
              " 'decent': 2527,\n",
              " 'physique': 7765,\n",
              " 'compete': 2023,\n",
              " 'ironically': 5345,\n",
              " 'minus': 6597,\n",
              " 'ability': 98,\n",
              " 'smile': 9443,\n",
              " 'laugh': 5843,\n",
              " 'joke': 5530,\n",
              " 'funny': 4104,\n",
              " 'heart': 4598,\n",
              " 'unable': 10709,\n",
              " 'form': 3960,\n",
              " 'whether': 11282,\n",
              " 'romantic': 8796,\n",
              " 'relate': 8521,\n",
              " 'business': 1433,\n",
              " 'debt': 2517,\n",
              " 'fight': 3775,\n",
              " 'drag': 3008,\n",
              " 'dark': 2456,\n",
              " 'empty': 3299,\n",
              " 'light': 5969,\n",
              " 'tunnel': 10622,\n",
              " 'future': 4114,\n",
              " 'route': 8825,\n",
              " 'social': 9486,\n",
              " 'reach': 8385,\n",
              " 'mask': 6328,\n",
              " 'stress': 9811,\n",
              " 'emotion': 3285,\n",
              " 'bottle': 1252,\n",
              " 'legitimate': 5911,\n",
              " 'happiness': 4525,\n",
              " 'besides': 1048,\n",
              " 'shame': 9173,\n",
              " 'cripple': 2310,\n",
              " 'caffeine': 1468,\n",
              " '000mg': 5,\n",
              " 'bedside': 985,\n",
              " 'stare': 9708,\n",
              " 'closer': 1889,\n",
              " ...}"
            ]
          },
          "metadata": {},
          "execution_count": 28
        }
      ],
      "source": [
        "v.vocabulary_"
      ]
    },
    {
      "cell_type": "code",
      "execution_count": 29,
      "id": "ba747567",
      "metadata": {
        "id": "ba747567",
        "outputId": "6c4c9910-584c-4e16-e9ed-758e4f85e551",
        "colab": {
          "base_uri": "https://localhost:8080/"
        }
      },
      "outputs": [
        {
          "output_type": "execute_result",
          "data": {
            "text/plain": [
              "array([0, 0, 0, ..., 0, 0, 0])"
            ]
          },
          "metadata": {},
          "execution_count": 29
        }
      ],
      "source": [
        "X_train_np = X_train_cv.toarray()\n",
        "X_train_np[0]"
      ]
    },
    {
      "cell_type": "code",
      "execution_count": 30,
      "id": "58d05a7b",
      "metadata": {
        "id": "58d05a7b",
        "outputId": "db96b1cb-94aa-4986-9d19-9df4a7a76d21",
        "colab": {
          "base_uri": "https://localhost:8080/"
        }
      },
      "outputs": [
        {
          "output_type": "execute_result",
          "data": {
            "text/plain": [
              "(array([  356,   541,   717,  1063,  2647,  2954,  3731,  3930,  3952,\n",
              "         4235,  4263,  4530,  4562,  5597,  5890,  5978,  6038,  6078,\n",
              "         7105,  7107,  8404,  9477, 10230, 10365, 10380, 10396, 10430,\n",
              "        10595, 10874, 11172, 11397]),)"
            ]
          },
          "metadata": {},
          "execution_count": 30
        }
      ],
      "source": [
        "np.where(X_train_np[0]!=0)"
      ]
    },
    {
      "cell_type": "code",
      "execution_count": 31,
      "id": "ca5a6df7",
      "metadata": {
        "scrolled": true,
        "id": "ca5a6df7",
        "outputId": "0f98c871-1d7c-4ecb-bf6d-6ca1703d40b0",
        "colab": {
          "base_uri": "https://localhost:8080/"
        }
      },
      "outputs": [
        {
          "output_type": "execute_result",
          "data": {
            "text/plain": [
              "0"
            ]
          },
          "metadata": {},
          "execution_count": 31
        }
      ],
      "source": [
        "X_train_np[0][54]"
      ]
    },
    {
      "cell_type": "markdown",
      "id": "1c999890",
      "metadata": {
        "id": "1c999890"
      },
      "source": [
        "<h3>Train the naive bayes model</h3>"
      ]
    },
    {
      "cell_type": "code",
      "execution_count": 32,
      "id": "aa79e020",
      "metadata": {
        "id": "aa79e020",
        "outputId": "80e3b06d-bc57-4f4e-8691-1d2be26a32cd",
        "colab": {
          "base_uri": "https://localhost:8080/",
          "height": 75
        }
      },
      "outputs": [
        {
          "output_type": "execute_result",
          "data": {
            "text/plain": [
              "MultinomialNB()"
            ],
            "text/html": [
              "<style>#sk-container-id-1 {color: black;background-color: white;}#sk-container-id-1 pre{padding: 0;}#sk-container-id-1 div.sk-toggleable {background-color: white;}#sk-container-id-1 label.sk-toggleable__label {cursor: pointer;display: block;width: 100%;margin-bottom: 0;padding: 0.3em;box-sizing: border-box;text-align: center;}#sk-container-id-1 label.sk-toggleable__label-arrow:before {content: \"▸\";float: left;margin-right: 0.25em;color: #696969;}#sk-container-id-1 label.sk-toggleable__label-arrow:hover:before {color: black;}#sk-container-id-1 div.sk-estimator:hover label.sk-toggleable__label-arrow:before {color: black;}#sk-container-id-1 div.sk-toggleable__content {max-height: 0;max-width: 0;overflow: hidden;text-align: left;background-color: #f0f8ff;}#sk-container-id-1 div.sk-toggleable__content pre {margin: 0.2em;color: black;border-radius: 0.25em;background-color: #f0f8ff;}#sk-container-id-1 input.sk-toggleable__control:checked~div.sk-toggleable__content {max-height: 200px;max-width: 100%;overflow: auto;}#sk-container-id-1 input.sk-toggleable__control:checked~label.sk-toggleable__label-arrow:before {content: \"▾\";}#sk-container-id-1 div.sk-estimator input.sk-toggleable__control:checked~label.sk-toggleable__label {background-color: #d4ebff;}#sk-container-id-1 div.sk-label input.sk-toggleable__control:checked~label.sk-toggleable__label {background-color: #d4ebff;}#sk-container-id-1 input.sk-hidden--visually {border: 0;clip: rect(1px 1px 1px 1px);clip: rect(1px, 1px, 1px, 1px);height: 1px;margin: -1px;overflow: hidden;padding: 0;position: absolute;width: 1px;}#sk-container-id-1 div.sk-estimator {font-family: monospace;background-color: #f0f8ff;border: 1px dotted black;border-radius: 0.25em;box-sizing: border-box;margin-bottom: 0.5em;}#sk-container-id-1 div.sk-estimator:hover {background-color: #d4ebff;}#sk-container-id-1 div.sk-parallel-item::after {content: \"\";width: 100%;border-bottom: 1px solid gray;flex-grow: 1;}#sk-container-id-1 div.sk-label:hover label.sk-toggleable__label {background-color: #d4ebff;}#sk-container-id-1 div.sk-serial::before {content: \"\";position: absolute;border-left: 1px solid gray;box-sizing: border-box;top: 0;bottom: 0;left: 50%;z-index: 0;}#sk-container-id-1 div.sk-serial {display: flex;flex-direction: column;align-items: center;background-color: white;padding-right: 0.2em;padding-left: 0.2em;position: relative;}#sk-container-id-1 div.sk-item {position: relative;z-index: 1;}#sk-container-id-1 div.sk-parallel {display: flex;align-items: stretch;justify-content: center;background-color: white;position: relative;}#sk-container-id-1 div.sk-item::before, #sk-container-id-1 div.sk-parallel-item::before {content: \"\";position: absolute;border-left: 1px solid gray;box-sizing: border-box;top: 0;bottom: 0;left: 50%;z-index: -1;}#sk-container-id-1 div.sk-parallel-item {display: flex;flex-direction: column;z-index: 1;position: relative;background-color: white;}#sk-container-id-1 div.sk-parallel-item:first-child::after {align-self: flex-end;width: 50%;}#sk-container-id-1 div.sk-parallel-item:last-child::after {align-self: flex-start;width: 50%;}#sk-container-id-1 div.sk-parallel-item:only-child::after {width: 0;}#sk-container-id-1 div.sk-dashed-wrapped {border: 1px dashed gray;margin: 0 0.4em 0.5em 0.4em;box-sizing: border-box;padding-bottom: 0.4em;background-color: white;}#sk-container-id-1 div.sk-label label {font-family: monospace;font-weight: bold;display: inline-block;line-height: 1.2em;}#sk-container-id-1 div.sk-label-container {text-align: center;}#sk-container-id-1 div.sk-container {/* jupyter's `normalize.less` sets `[hidden] { display: none; }` but bootstrap.min.css set `[hidden] { display: none !important; }` so we also need the `!important` here to be able to override the default hidden behavior on the sphinx rendered scikit-learn.org. See: https://github.com/scikit-learn/scikit-learn/issues/21755 */display: inline-block !important;position: relative;}#sk-container-id-1 div.sk-text-repr-fallback {display: none;}</style><div id=\"sk-container-id-1\" class=\"sk-top-container\"><div class=\"sk-text-repr-fallback\"><pre>MultinomialNB()</pre><b>In a Jupyter environment, please rerun this cell to show the HTML representation or trust the notebook. <br />On GitHub, the HTML representation is unable to render, please try loading this page with nbviewer.org.</b></div><div class=\"sk-container\" hidden><div class=\"sk-item\"><div class=\"sk-estimator sk-toggleable\"><input class=\"sk-toggleable__control sk-hidden--visually\" id=\"sk-estimator-id-1\" type=\"checkbox\" checked><label for=\"sk-estimator-id-1\" class=\"sk-toggleable__label sk-toggleable__label-arrow\">MultinomialNB</label><div class=\"sk-toggleable__content\"><pre>MultinomialNB()</pre></div></div></div></div></div>"
            ]
          },
          "metadata": {},
          "execution_count": 32
        }
      ],
      "source": [
        "from sklearn.naive_bayes import MultinomialNB\n",
        "\n",
        "model = MultinomialNB()\n",
        "model.fit(X_train_cv, y_train)"
      ]
    },
    {
      "cell_type": "code",
      "execution_count": 33,
      "id": "8cbe6774",
      "metadata": {
        "id": "8cbe6774"
      },
      "outputs": [],
      "source": [
        "X_test_cv = v.transform(X_test)"
      ]
    },
    {
      "cell_type": "markdown",
      "id": "4a76039d",
      "metadata": {
        "id": "4a76039d"
      },
      "source": [
        "<h3>Evaluate Performance</h3>"
      ]
    },
    {
      "cell_type": "code",
      "execution_count": 34,
      "id": "df54b01e",
      "metadata": {
        "id": "df54b01e",
        "outputId": "98a57247-1606-44d9-e3ab-bbf61d59f0c6",
        "colab": {
          "base_uri": "https://localhost:8080/"
        }
      },
      "outputs": [
        {
          "output_type": "stream",
          "name": "stdout",
          "text": [
            "              precision    recall  f1-score   support\n",
            "\n",
            "           0       0.97      0.72      0.83       785\n",
            "           1       0.77      0.97      0.86       762\n",
            "\n",
            "    accuracy                           0.85      1547\n",
            "   macro avg       0.87      0.85      0.84      1547\n",
            "weighted avg       0.87      0.85      0.84      1547\n",
            "\n"
          ]
        }
      ],
      "source": [
        "from sklearn.metrics import classification_report\n",
        "\n",
        "y_pred = model.predict(X_test_cv)\n",
        "\n",
        "print(classification_report(y_test, y_pred))"
      ]
    },
    {
      "cell_type": "markdown",
      "source": [
        "**SVM**"
      ],
      "metadata": {
        "id": "UOVCjWl09SH0"
      },
      "id": "UOVCjWl09SH0"
    },
    {
      "cell_type": "code",
      "source": [
        "from sklearn.svm import SVC\n",
        "\n",
        "model = SVC()\n",
        "model.fit(X_train_cv, y_train)"
      ],
      "metadata": {
        "colab": {
          "base_uri": "https://localhost:8080/",
          "height": 75
        },
        "id": "O5sdOsyT7oFF",
        "outputId": "f02a1c1e-f1f1-4f25-f785-9275a41901c4"
      },
      "id": "O5sdOsyT7oFF",
      "execution_count": 35,
      "outputs": [
        {
          "output_type": "execute_result",
          "data": {
            "text/plain": [
              "SVC()"
            ],
            "text/html": [
              "<style>#sk-container-id-2 {color: black;background-color: white;}#sk-container-id-2 pre{padding: 0;}#sk-container-id-2 div.sk-toggleable {background-color: white;}#sk-container-id-2 label.sk-toggleable__label {cursor: pointer;display: block;width: 100%;margin-bottom: 0;padding: 0.3em;box-sizing: border-box;text-align: center;}#sk-container-id-2 label.sk-toggleable__label-arrow:before {content: \"▸\";float: left;margin-right: 0.25em;color: #696969;}#sk-container-id-2 label.sk-toggleable__label-arrow:hover:before {color: black;}#sk-container-id-2 div.sk-estimator:hover label.sk-toggleable__label-arrow:before {color: black;}#sk-container-id-2 div.sk-toggleable__content {max-height: 0;max-width: 0;overflow: hidden;text-align: left;background-color: #f0f8ff;}#sk-container-id-2 div.sk-toggleable__content pre {margin: 0.2em;color: black;border-radius: 0.25em;background-color: #f0f8ff;}#sk-container-id-2 input.sk-toggleable__control:checked~div.sk-toggleable__content {max-height: 200px;max-width: 100%;overflow: auto;}#sk-container-id-2 input.sk-toggleable__control:checked~label.sk-toggleable__label-arrow:before {content: \"▾\";}#sk-container-id-2 div.sk-estimator input.sk-toggleable__control:checked~label.sk-toggleable__label {background-color: #d4ebff;}#sk-container-id-2 div.sk-label input.sk-toggleable__control:checked~label.sk-toggleable__label {background-color: #d4ebff;}#sk-container-id-2 input.sk-hidden--visually {border: 0;clip: rect(1px 1px 1px 1px);clip: rect(1px, 1px, 1px, 1px);height: 1px;margin: -1px;overflow: hidden;padding: 0;position: absolute;width: 1px;}#sk-container-id-2 div.sk-estimator {font-family: monospace;background-color: #f0f8ff;border: 1px dotted black;border-radius: 0.25em;box-sizing: border-box;margin-bottom: 0.5em;}#sk-container-id-2 div.sk-estimator:hover {background-color: #d4ebff;}#sk-container-id-2 div.sk-parallel-item::after {content: \"\";width: 100%;border-bottom: 1px solid gray;flex-grow: 1;}#sk-container-id-2 div.sk-label:hover label.sk-toggleable__label {background-color: #d4ebff;}#sk-container-id-2 div.sk-serial::before {content: \"\";position: absolute;border-left: 1px solid gray;box-sizing: border-box;top: 0;bottom: 0;left: 50%;z-index: 0;}#sk-container-id-2 div.sk-serial {display: flex;flex-direction: column;align-items: center;background-color: white;padding-right: 0.2em;padding-left: 0.2em;position: relative;}#sk-container-id-2 div.sk-item {position: relative;z-index: 1;}#sk-container-id-2 div.sk-parallel {display: flex;align-items: stretch;justify-content: center;background-color: white;position: relative;}#sk-container-id-2 div.sk-item::before, #sk-container-id-2 div.sk-parallel-item::before {content: \"\";position: absolute;border-left: 1px solid gray;box-sizing: border-box;top: 0;bottom: 0;left: 50%;z-index: -1;}#sk-container-id-2 div.sk-parallel-item {display: flex;flex-direction: column;z-index: 1;position: relative;background-color: white;}#sk-container-id-2 div.sk-parallel-item:first-child::after {align-self: flex-end;width: 50%;}#sk-container-id-2 div.sk-parallel-item:last-child::after {align-self: flex-start;width: 50%;}#sk-container-id-2 div.sk-parallel-item:only-child::after {width: 0;}#sk-container-id-2 div.sk-dashed-wrapped {border: 1px dashed gray;margin: 0 0.4em 0.5em 0.4em;box-sizing: border-box;padding-bottom: 0.4em;background-color: white;}#sk-container-id-2 div.sk-label label {font-family: monospace;font-weight: bold;display: inline-block;line-height: 1.2em;}#sk-container-id-2 div.sk-label-container {text-align: center;}#sk-container-id-2 div.sk-container {/* jupyter's `normalize.less` sets `[hidden] { display: none; }` but bootstrap.min.css set `[hidden] { display: none !important; }` so we also need the `!important` here to be able to override the default hidden behavior on the sphinx rendered scikit-learn.org. See: https://github.com/scikit-learn/scikit-learn/issues/21755 */display: inline-block !important;position: relative;}#sk-container-id-2 div.sk-text-repr-fallback {display: none;}</style><div id=\"sk-container-id-2\" class=\"sk-top-container\"><div class=\"sk-text-repr-fallback\"><pre>SVC()</pre><b>In a Jupyter environment, please rerun this cell to show the HTML representation or trust the notebook. <br />On GitHub, the HTML representation is unable to render, please try loading this page with nbviewer.org.</b></div><div class=\"sk-container\" hidden><div class=\"sk-item\"><div class=\"sk-estimator sk-toggleable\"><input class=\"sk-toggleable__control sk-hidden--visually\" id=\"sk-estimator-id-2\" type=\"checkbox\" checked><label for=\"sk-estimator-id-2\" class=\"sk-toggleable__label sk-toggleable__label-arrow\">SVC</label><div class=\"sk-toggleable__content\"><pre>SVC()</pre></div></div></div></div></div>"
            ]
          },
          "metadata": {},
          "execution_count": 35
        }
      ]
    },
    {
      "cell_type": "code",
      "source": [
        "X_test_cv = v.transform(X_test)"
      ],
      "metadata": {
        "id": "YNoR8sFs9heC"
      },
      "id": "YNoR8sFs9heC",
      "execution_count": 36,
      "outputs": []
    },
    {
      "cell_type": "code",
      "source": [
        "from sklearn.metrics import classification_report\n",
        "\n",
        "y_pred = model.predict(X_test_cv)\n",
        "\n",
        "print(classification_report(y_test, y_pred))"
      ],
      "metadata": {
        "colab": {
          "base_uri": "https://localhost:8080/"
        },
        "id": "eWCuvnbS9lVK",
        "outputId": "a2980cac-da86-44a7-ed53-75467f49af86"
      },
      "id": "eWCuvnbS9lVK",
      "execution_count": 37,
      "outputs": [
        {
          "output_type": "stream",
          "name": "stdout",
          "text": [
            "              precision    recall  f1-score   support\n",
            "\n",
            "           0       0.91      1.00      0.95       785\n",
            "           1       1.00      0.89      0.94       762\n",
            "\n",
            "    accuracy                           0.95      1547\n",
            "   macro avg       0.95      0.95      0.95      1547\n",
            "weighted avg       0.95      0.95      0.95      1547\n",
            "\n"
          ]
        }
      ]
    },
    {
      "cell_type": "markdown",
      "source": [
        "**Random** **Forest**"
      ],
      "metadata": {
        "id": "OjvIXRoV_qGW"
      },
      "id": "OjvIXRoV_qGW"
    },
    {
      "cell_type": "code",
      "source": [
        "from sklearn.ensemble import RandomForestClassifier\n",
        "\n",
        "model = RandomForestClassifier()\n",
        "model.fit(X_train_cv, y_train)"
      ],
      "metadata": {
        "colab": {
          "base_uri": "https://localhost:8080/",
          "height": 75
        },
        "id": "y0GZmvI7_ya9",
        "outputId": "720d550b-6060-4279-84b8-4c7678229016"
      },
      "id": "y0GZmvI7_ya9",
      "execution_count": 38,
      "outputs": [
        {
          "output_type": "execute_result",
          "data": {
            "text/plain": [
              "RandomForestClassifier()"
            ],
            "text/html": [
              "<style>#sk-container-id-3 {color: black;background-color: white;}#sk-container-id-3 pre{padding: 0;}#sk-container-id-3 div.sk-toggleable {background-color: white;}#sk-container-id-3 label.sk-toggleable__label {cursor: pointer;display: block;width: 100%;margin-bottom: 0;padding: 0.3em;box-sizing: border-box;text-align: center;}#sk-container-id-3 label.sk-toggleable__label-arrow:before {content: \"▸\";float: left;margin-right: 0.25em;color: #696969;}#sk-container-id-3 label.sk-toggleable__label-arrow:hover:before {color: black;}#sk-container-id-3 div.sk-estimator:hover label.sk-toggleable__label-arrow:before {color: black;}#sk-container-id-3 div.sk-toggleable__content {max-height: 0;max-width: 0;overflow: hidden;text-align: left;background-color: #f0f8ff;}#sk-container-id-3 div.sk-toggleable__content pre {margin: 0.2em;color: black;border-radius: 0.25em;background-color: #f0f8ff;}#sk-container-id-3 input.sk-toggleable__control:checked~div.sk-toggleable__content {max-height: 200px;max-width: 100%;overflow: auto;}#sk-container-id-3 input.sk-toggleable__control:checked~label.sk-toggleable__label-arrow:before {content: \"▾\";}#sk-container-id-3 div.sk-estimator input.sk-toggleable__control:checked~label.sk-toggleable__label {background-color: #d4ebff;}#sk-container-id-3 div.sk-label input.sk-toggleable__control:checked~label.sk-toggleable__label {background-color: #d4ebff;}#sk-container-id-3 input.sk-hidden--visually {border: 0;clip: rect(1px 1px 1px 1px);clip: rect(1px, 1px, 1px, 1px);height: 1px;margin: -1px;overflow: hidden;padding: 0;position: absolute;width: 1px;}#sk-container-id-3 div.sk-estimator {font-family: monospace;background-color: #f0f8ff;border: 1px dotted black;border-radius: 0.25em;box-sizing: border-box;margin-bottom: 0.5em;}#sk-container-id-3 div.sk-estimator:hover {background-color: #d4ebff;}#sk-container-id-3 div.sk-parallel-item::after {content: \"\";width: 100%;border-bottom: 1px solid gray;flex-grow: 1;}#sk-container-id-3 div.sk-label:hover label.sk-toggleable__label {background-color: #d4ebff;}#sk-container-id-3 div.sk-serial::before {content: \"\";position: absolute;border-left: 1px solid gray;box-sizing: border-box;top: 0;bottom: 0;left: 50%;z-index: 0;}#sk-container-id-3 div.sk-serial {display: flex;flex-direction: column;align-items: center;background-color: white;padding-right: 0.2em;padding-left: 0.2em;position: relative;}#sk-container-id-3 div.sk-item {position: relative;z-index: 1;}#sk-container-id-3 div.sk-parallel {display: flex;align-items: stretch;justify-content: center;background-color: white;position: relative;}#sk-container-id-3 div.sk-item::before, #sk-container-id-3 div.sk-parallel-item::before {content: \"\";position: absolute;border-left: 1px solid gray;box-sizing: border-box;top: 0;bottom: 0;left: 50%;z-index: -1;}#sk-container-id-3 div.sk-parallel-item {display: flex;flex-direction: column;z-index: 1;position: relative;background-color: white;}#sk-container-id-3 div.sk-parallel-item:first-child::after {align-self: flex-end;width: 50%;}#sk-container-id-3 div.sk-parallel-item:last-child::after {align-self: flex-start;width: 50%;}#sk-container-id-3 div.sk-parallel-item:only-child::after {width: 0;}#sk-container-id-3 div.sk-dashed-wrapped {border: 1px dashed gray;margin: 0 0.4em 0.5em 0.4em;box-sizing: border-box;padding-bottom: 0.4em;background-color: white;}#sk-container-id-3 div.sk-label label {font-family: monospace;font-weight: bold;display: inline-block;line-height: 1.2em;}#sk-container-id-3 div.sk-label-container {text-align: center;}#sk-container-id-3 div.sk-container {/* jupyter's `normalize.less` sets `[hidden] { display: none; }` but bootstrap.min.css set `[hidden] { display: none !important; }` so we also need the `!important` here to be able to override the default hidden behavior on the sphinx rendered scikit-learn.org. See: https://github.com/scikit-learn/scikit-learn/issues/21755 */display: inline-block !important;position: relative;}#sk-container-id-3 div.sk-text-repr-fallback {display: none;}</style><div id=\"sk-container-id-3\" class=\"sk-top-container\"><div class=\"sk-text-repr-fallback\"><pre>RandomForestClassifier()</pre><b>In a Jupyter environment, please rerun this cell to show the HTML representation or trust the notebook. <br />On GitHub, the HTML representation is unable to render, please try loading this page with nbviewer.org.</b></div><div class=\"sk-container\" hidden><div class=\"sk-item\"><div class=\"sk-estimator sk-toggleable\"><input class=\"sk-toggleable__control sk-hidden--visually\" id=\"sk-estimator-id-3\" type=\"checkbox\" checked><label for=\"sk-estimator-id-3\" class=\"sk-toggleable__label sk-toggleable__label-arrow\">RandomForestClassifier</label><div class=\"sk-toggleable__content\"><pre>RandomForestClassifier()</pre></div></div></div></div></div>"
            ]
          },
          "metadata": {},
          "execution_count": 38
        }
      ]
    },
    {
      "cell_type": "code",
      "source": [
        "X_test_cv = v.transform(X_test)"
      ],
      "metadata": {
        "id": "G7FJKPxuAEhl"
      },
      "id": "G7FJKPxuAEhl",
      "execution_count": 39,
      "outputs": []
    },
    {
      "cell_type": "code",
      "source": [
        "from sklearn.metrics import classification_report\n",
        "\n",
        "y_pred = model.predict(X_test_cv)\n",
        "\n",
        "print(classification_report(y_test, y_pred))"
      ],
      "metadata": {
        "colab": {
          "base_uri": "https://localhost:8080/"
        },
        "id": "_S2_x0Z_AHMd",
        "outputId": "7fb11fd3-35c0-460a-8f58-0f51fcdd5f50"
      },
      "id": "_S2_x0Z_AHMd",
      "execution_count": 40,
      "outputs": [
        {
          "output_type": "stream",
          "name": "stdout",
          "text": [
            "              precision    recall  f1-score   support\n",
            "\n",
            "           0       0.93      0.99      0.96       785\n",
            "           1       0.99      0.92      0.95       762\n",
            "\n",
            "    accuracy                           0.96      1547\n",
            "   macro avg       0.96      0.96      0.96      1547\n",
            "weighted avg       0.96      0.96      0.96      1547\n",
            "\n"
          ]
        }
      ]
    },
    {
      "cell_type": "code",
      "execution_count": 41,
      "id": "335d9da9",
      "metadata": {
        "scrolled": true,
        "id": "335d9da9",
        "outputId": "8d950984-f015-42ba-ca19-b690968a3743",
        "colab": {
          "base_uri": "https://localhost:8080/"
        }
      },
      "outputs": [
        {
          "output_type": "execute_result",
          "data": {
            "text/plain": [
              "array([0, 0])"
            ]
          },
          "metadata": {},
          "execution_count": 41
        }
      ],
      "source": [
        "reviews = [\n",
        "    \"['I','loved','it']\",\n",
        "    \"['It','be','disgusting','food']\"\n",
        "]\n",
        "\n",
        "reviews_count = v.transform(reviews)\n",
        "model.predict(reviews_count)"
      ]
    },
    {
      "cell_type": "markdown",
      "id": "5f62ecc2",
      "metadata": {
        "id": "5f62ecc2"
      },
      "source": [
        "<h3>Train the model using sklearn pipeline and reduce number of lines of code</h3>"
      ]
    },
    {
      "cell_type": "code",
      "execution_count": 42,
      "id": "a41cef42",
      "metadata": {
        "id": "a41cef42"
      },
      "outputs": [],
      "source": [
        "from sklearn.pipeline import Pipeline\n",
        "\n",
        "clf = Pipeline([\n",
        "    ('vectorizer', CountVectorizer()),\n",
        "    ('nb', MultinomialNB())\n",
        "])"
      ]
    },
    {
      "cell_type": "code",
      "execution_count": 43,
      "id": "a67eefb2",
      "metadata": {
        "id": "a67eefb2",
        "outputId": "3694b272-9514-4b69-ebaf-daa34a7bd4b5",
        "colab": {
          "base_uri": "https://localhost:8080/",
          "height": 126
        }
      },
      "outputs": [
        {
          "output_type": "execute_result",
          "data": {
            "text/plain": [
              "Pipeline(steps=[('vectorizer', CountVectorizer()), ('nb', MultinomialNB())])"
            ],
            "text/html": [
              "<style>#sk-container-id-4 {color: black;background-color: white;}#sk-container-id-4 pre{padding: 0;}#sk-container-id-4 div.sk-toggleable {background-color: white;}#sk-container-id-4 label.sk-toggleable__label {cursor: pointer;display: block;width: 100%;margin-bottom: 0;padding: 0.3em;box-sizing: border-box;text-align: center;}#sk-container-id-4 label.sk-toggleable__label-arrow:before {content: \"▸\";float: left;margin-right: 0.25em;color: #696969;}#sk-container-id-4 label.sk-toggleable__label-arrow:hover:before {color: black;}#sk-container-id-4 div.sk-estimator:hover label.sk-toggleable__label-arrow:before {color: black;}#sk-container-id-4 div.sk-toggleable__content {max-height: 0;max-width: 0;overflow: hidden;text-align: left;background-color: #f0f8ff;}#sk-container-id-4 div.sk-toggleable__content pre {margin: 0.2em;color: black;border-radius: 0.25em;background-color: #f0f8ff;}#sk-container-id-4 input.sk-toggleable__control:checked~div.sk-toggleable__content {max-height: 200px;max-width: 100%;overflow: auto;}#sk-container-id-4 input.sk-toggleable__control:checked~label.sk-toggleable__label-arrow:before {content: \"▾\";}#sk-container-id-4 div.sk-estimator input.sk-toggleable__control:checked~label.sk-toggleable__label {background-color: #d4ebff;}#sk-container-id-4 div.sk-label input.sk-toggleable__control:checked~label.sk-toggleable__label {background-color: #d4ebff;}#sk-container-id-4 input.sk-hidden--visually {border: 0;clip: rect(1px 1px 1px 1px);clip: rect(1px, 1px, 1px, 1px);height: 1px;margin: -1px;overflow: hidden;padding: 0;position: absolute;width: 1px;}#sk-container-id-4 div.sk-estimator {font-family: monospace;background-color: #f0f8ff;border: 1px dotted black;border-radius: 0.25em;box-sizing: border-box;margin-bottom: 0.5em;}#sk-container-id-4 div.sk-estimator:hover {background-color: #d4ebff;}#sk-container-id-4 div.sk-parallel-item::after {content: \"\";width: 100%;border-bottom: 1px solid gray;flex-grow: 1;}#sk-container-id-4 div.sk-label:hover label.sk-toggleable__label {background-color: #d4ebff;}#sk-container-id-4 div.sk-serial::before {content: \"\";position: absolute;border-left: 1px solid gray;box-sizing: border-box;top: 0;bottom: 0;left: 50%;z-index: 0;}#sk-container-id-4 div.sk-serial {display: flex;flex-direction: column;align-items: center;background-color: white;padding-right: 0.2em;padding-left: 0.2em;position: relative;}#sk-container-id-4 div.sk-item {position: relative;z-index: 1;}#sk-container-id-4 div.sk-parallel {display: flex;align-items: stretch;justify-content: center;background-color: white;position: relative;}#sk-container-id-4 div.sk-item::before, #sk-container-id-4 div.sk-parallel-item::before {content: \"\";position: absolute;border-left: 1px solid gray;box-sizing: border-box;top: 0;bottom: 0;left: 50%;z-index: -1;}#sk-container-id-4 div.sk-parallel-item {display: flex;flex-direction: column;z-index: 1;position: relative;background-color: white;}#sk-container-id-4 div.sk-parallel-item:first-child::after {align-self: flex-end;width: 50%;}#sk-container-id-4 div.sk-parallel-item:last-child::after {align-self: flex-start;width: 50%;}#sk-container-id-4 div.sk-parallel-item:only-child::after {width: 0;}#sk-container-id-4 div.sk-dashed-wrapped {border: 1px dashed gray;margin: 0 0.4em 0.5em 0.4em;box-sizing: border-box;padding-bottom: 0.4em;background-color: white;}#sk-container-id-4 div.sk-label label {font-family: monospace;font-weight: bold;display: inline-block;line-height: 1.2em;}#sk-container-id-4 div.sk-label-container {text-align: center;}#sk-container-id-4 div.sk-container {/* jupyter's `normalize.less` sets `[hidden] { display: none; }` but bootstrap.min.css set `[hidden] { display: none !important; }` so we also need the `!important` here to be able to override the default hidden behavior on the sphinx rendered scikit-learn.org. See: https://github.com/scikit-learn/scikit-learn/issues/21755 */display: inline-block !important;position: relative;}#sk-container-id-4 div.sk-text-repr-fallback {display: none;}</style><div id=\"sk-container-id-4\" class=\"sk-top-container\"><div class=\"sk-text-repr-fallback\"><pre>Pipeline(steps=[(&#x27;vectorizer&#x27;, CountVectorizer()), (&#x27;nb&#x27;, MultinomialNB())])</pre><b>In a Jupyter environment, please rerun this cell to show the HTML representation or trust the notebook. <br />On GitHub, the HTML representation is unable to render, please try loading this page with nbviewer.org.</b></div><div class=\"sk-container\" hidden><div class=\"sk-item sk-dashed-wrapped\"><div class=\"sk-label-container\"><div class=\"sk-label sk-toggleable\"><input class=\"sk-toggleable__control sk-hidden--visually\" id=\"sk-estimator-id-4\" type=\"checkbox\" ><label for=\"sk-estimator-id-4\" class=\"sk-toggleable__label sk-toggleable__label-arrow\">Pipeline</label><div class=\"sk-toggleable__content\"><pre>Pipeline(steps=[(&#x27;vectorizer&#x27;, CountVectorizer()), (&#x27;nb&#x27;, MultinomialNB())])</pre></div></div></div><div class=\"sk-serial\"><div class=\"sk-item\"><div class=\"sk-estimator sk-toggleable\"><input class=\"sk-toggleable__control sk-hidden--visually\" id=\"sk-estimator-id-5\" type=\"checkbox\" ><label for=\"sk-estimator-id-5\" class=\"sk-toggleable__label sk-toggleable__label-arrow\">CountVectorizer</label><div class=\"sk-toggleable__content\"><pre>CountVectorizer()</pre></div></div></div><div class=\"sk-item\"><div class=\"sk-estimator sk-toggleable\"><input class=\"sk-toggleable__control sk-hidden--visually\" id=\"sk-estimator-id-6\" type=\"checkbox\" ><label for=\"sk-estimator-id-6\" class=\"sk-toggleable__label sk-toggleable__label-arrow\">MultinomialNB</label><div class=\"sk-toggleable__content\"><pre>MultinomialNB()</pre></div></div></div></div></div></div></div>"
            ]
          },
          "metadata": {},
          "execution_count": 43
        }
      ],
      "source": [
        "clf.fit(X_train, y_train)"
      ]
    },
    {
      "cell_type": "code",
      "execution_count": 44,
      "id": "e2fd226a",
      "metadata": {
        "id": "e2fd226a",
        "outputId": "09316f7d-a886-46eb-c28c-a5f29b427d3e",
        "colab": {
          "base_uri": "https://localhost:8080/"
        }
      },
      "outputs": [
        {
          "output_type": "stream",
          "name": "stdout",
          "text": [
            "              precision    recall  f1-score   support\n",
            "\n",
            "           0       0.97      0.72      0.83       785\n",
            "           1       0.77      0.97      0.86       762\n",
            "\n",
            "    accuracy                           0.85      1547\n",
            "   macro avg       0.87      0.85      0.84      1547\n",
            "weighted avg       0.87      0.85      0.84      1547\n",
            "\n"
          ]
        }
      ],
      "source": [
        "y_pred = clf.predict(X_test)\n",
        "\n",
        "print(classification_report(y_test, y_pred))"
      ]
    },
    {
      "cell_type": "code",
      "execution_count": 45,
      "id": "a15afc3e",
      "metadata": {
        "id": "a15afc3e",
        "outputId": "3a399764-b7ed-4140-ded7-95af02315f88",
        "colab": {
          "base_uri": "https://localhost:8080/"
        }
      },
      "outputs": [
        {
          "output_type": "stream",
          "name": "stdout",
          "text": [
            "              precision    recall  f1-score   support\n",
            "\n",
            "           0       1.00      0.11      0.21       785\n",
            "           1       0.52      1.00      0.69       762\n",
            "\n",
            "    accuracy                           0.55      1547\n",
            "   macro avg       0.76      0.56      0.45      1547\n",
            "weighted avg       0.77      0.55      0.44      1547\n",
            "\n"
          ]
        }
      ],
      "source": [
        "from sklearn.naive_bayes import MultinomialNB\n",
        "from sklearn.pipeline import Pipeline\n",
        "from sklearn.metrics import classification_report\n",
        "\n",
        "#1. create a pipeline object\n",
        "clf = Pipeline([\n",
        "     ('vectorizer', CountVectorizer(ngram_range = (1, 6))),        #using the ngram_range parameter \n",
        "     ('nb', MultinomialNB())         \n",
        "])\n",
        "\n",
        "#2. fit with X_train and y_train\n",
        "clf.fit(X_train, y_train)\n",
        "\n",
        "\n",
        "#3. get the predictions for X_test and store it in y_pred\n",
        "y_pred = clf.predict(X_test)\n",
        "\n",
        "\n",
        "#4. print the classfication report\n",
        "print(classification_report(y_test, y_pred))"
      ]
    },
    {
      "cell_type": "code",
      "source": [
        "from sklearn.ensemble import RandomForestClassifier\n",
        "from sklearn.pipeline import Pipeline\n",
        "from sklearn.metrics import classification_report\n",
        "\n",
        "#1. create a pipeline object\n",
        "clf = Pipeline([\n",
        "     ('vectorizer', CountVectorizer(ngram_range = (1, 3))),        #using the ngram_range parameter \n",
        "     ('rfc', RandomForestClassifier(n_estimators=250,  criterion='gini'))         \n",
        "])\n",
        "\n",
        "#2. fit with X_train and y_train\n",
        "clf.fit(X_train, y_train)\n",
        "\n",
        "\n",
        "#3. get the predictions for X_test and store it in y_pred\n",
        "y_pred = clf.predict(X_test)\n",
        "\n",
        "\n",
        "#4. print the classfication report\n",
        "print(classification_report(y_test, y_pred))"
      ],
      "metadata": {
        "colab": {
          "base_uri": "https://localhost:8080/"
        },
        "id": "mntfJz0M4nCV",
        "outputId": "2d1dc481-887c-47e4-82b9-9971f51a5e1e"
      },
      "id": "mntfJz0M4nCV",
      "execution_count": 46,
      "outputs": [
        {
          "output_type": "stream",
          "name": "stdout",
          "text": [
            "              precision    recall  f1-score   support\n",
            "\n",
            "           0       0.90      1.00      0.94       785\n",
            "           1       1.00      0.88      0.94       762\n",
            "\n",
            "    accuracy                           0.94      1547\n",
            "   macro avg       0.95      0.94      0.94      1547\n",
            "weighted avg       0.95      0.94      0.94      1547\n",
            "\n"
          ]
        }
      ]
    },
    {
      "cell_type": "code",
      "source": [
        "from sklearn.feature_extraction.text import TfidfVectorizer\n",
        "rfc=RandomForestClassifier()\n",
        "v = TfidfVectorizer()\n",
        "\n",
        "X_train_cv = v.fit_transform(X_train.values)\n",
        "X_train_cv\n",
        "rfc.fit(X_train_cv, y_train)\n",
        "X_test_cv = v.transform(X_test)\n",
        "\n",
        "y_pred = rfc.predict(X_test_cv)\n",
        "\n",
        "print(classification_report(y_test, y_pred))"
      ],
      "metadata": {
        "colab": {
          "base_uri": "https://localhost:8080/"
        },
        "id": "26FpBVet7uIn",
        "outputId": "9005e97f-d22a-4ad7-eed6-0e61ecc7f1ae"
      },
      "id": "26FpBVet7uIn",
      "execution_count": 47,
      "outputs": [
        {
          "output_type": "stream",
          "name": "stdout",
          "text": [
            "              precision    recall  f1-score   support\n",
            "\n",
            "           0       0.92      1.00      0.96       785\n",
            "           1       1.00      0.91      0.95       762\n",
            "\n",
            "    accuracy                           0.95      1547\n",
            "   macro avg       0.96      0.95      0.95      1547\n",
            "weighted avg       0.96      0.95      0.95      1547\n",
            "\n"
          ]
        }
      ]
    },
    {
      "cell_type": "markdown",
      "source": [
        "<h4><b>CONCLUSION:<b><H4><h6>It is observed that when BOW model is applied onto the dataframe containing the preprocessed data, a spare matrix of shape 800x1557 is generated.<h6><h6>ON this spare matrix, classification models are applied, which include, Multinomial Naive Bayes, Random Forest, SVM.<h6><h6>Out of all the models applied, it is found that Randoom forest performs nuch better compared to other models with accuracy score of 0.78.<h6><h6>Ngram model using random forest gives precision of 0.82 and f1score of 0.80<h6><h6>TF-IDF model using random forest gives precision of 0.89 and f1score of 0.75<h6>"
      ],
      "metadata": {
        "id": "KUP6xWqz-Ggh"
      },
      "id": "KUP6xWqz-Ggh"
    },
    {
      "cell_type": "code",
      "source": [],
      "metadata": {
        "id": "5jJyZV0BS7rs"
      },
      "id": "5jJyZV0BS7rs",
      "execution_count": 47,
      "outputs": []
    }
  ],
  "metadata": {
    "kernelspec": {
      "display_name": "Python 3",
      "language": "python",
      "name": "python3"
    },
    "language_info": {
      "codemirror_mode": {
        "name": "ipython",
        "version": 3
      },
      "file_extension": ".py",
      "mimetype": "text/x-python",
      "name": "python",
      "nbconvert_exporter": "python",
      "pygments_lexer": "ipython3",
      "version": "3.8.8"
    },
    "colab": {
      "provenance": []
    }
  },
  "nbformat": 4,
  "nbformat_minor": 5
}